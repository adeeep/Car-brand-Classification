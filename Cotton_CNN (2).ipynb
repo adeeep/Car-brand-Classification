{
  "nbformat": 4,
  "nbformat_minor": 0,
  "metadata": {
    "colab": {
      "name": "Cotton_CNN.ipynb",
      "provenance": [],
      "collapsed_sections": []
    },
    "kernelspec": {
      "name": "python3",
      "display_name": "Python 3"
    },
    "language_info": {
      "name": "python"
    },
    "accelerator": "GPU"
  },
  "cells": [
    {
      "cell_type": "code",
      "metadata": {
        "id": "drBU3hE4QA6k"
      },
      "source": [
        "import keras\n",
        "from keras.preprocessing.image import ImageDataGenerator\n",
        "from tensorflow.keras.optimizers import Adam\n",
        "from keras.callbacks import ModelCheckpoint\n",
        "from tensorflow.keras.models import Sequential\n",
        "from tensorflow.keras import layers\n"
      ],
      "execution_count": 18,
      "outputs": []
    },
    {
      "cell_type": "code",
      "metadata": {
        "colab": {
          "base_uri": "https://localhost:8080/",
          "height": 513
        },
        "id": "S8p1KlXfQYQP",
        "outputId": "40117162-277c-4aae-9b00-52c119195c90"
      },
      "source": [
        "!pip install optimizers"
      ],
      "execution_count": 2,
      "outputs": [
        {
          "output_type": "stream",
          "name": "stdout",
          "text": [
            "Collecting optimizers\n",
            "  Downloading Optimizers-v2.1.tar.gz (1.6 kB)\n",
            "Collecting requests>=2.24.0\n",
            "  Downloading requests-2.26.0-py2.py3-none-any.whl (62 kB)\n",
            "\u001b[K     |████████████████████████████████| 62 kB 676 kB/s \n",
            "\u001b[?25hRequirement already satisfied: charset-normalizer~=2.0.0 in /usr/local/lib/python3.7/dist-packages (from requests>=2.24.0->optimizers) (2.0.8)\n",
            "Requirement already satisfied: idna<4,>=2.5 in /usr/local/lib/python3.7/dist-packages (from requests>=2.24.0->optimizers) (2.10)\n",
            "Requirement already satisfied: urllib3<1.27,>=1.21.1 in /usr/local/lib/python3.7/dist-packages (from requests>=2.24.0->optimizers) (1.24.3)\n",
            "Requirement already satisfied: certifi>=2017.4.17 in /usr/local/lib/python3.7/dist-packages (from requests>=2.24.0->optimizers) (2021.10.8)\n",
            "Building wheels for collected packages: optimizers\n",
            "  Building wheel for optimizers (setup.py) ... \u001b[?25l\u001b[?25hdone\n",
            "  Created wheel for optimizers: filename=Optimizers-2.1-py3-none-any.whl size=2283 sha256=bf339af9470bc5606508a77c4237bf3879fff6795724d9ba4697eda5ac7f44e9\n",
            "  Stored in directory: /root/.cache/pip/wheels/56/a5/4d/f679a391b5fca0b18c5e2fcd66ebff8900d97d6d95713915b9\n",
            "Successfully built optimizers\n",
            "Installing collected packages: requests, optimizers\n",
            "  Attempting uninstall: requests\n",
            "    Found existing installation: requests 2.23.0\n",
            "    Uninstalling requests-2.23.0:\n",
            "      Successfully uninstalled requests-2.23.0\n",
            "\u001b[31mERROR: pip's dependency resolver does not currently take into account all the packages that are installed. This behaviour is the source of the following dependency conflicts.\n",
            "google-colab 1.0.0 requires requests~=2.23.0, but you have requests 2.26.0 which is incompatible.\n",
            "datascience 0.10.6 requires folium==0.2.1, but you have folium 0.8.3 which is incompatible.\u001b[0m\n",
            "Successfully installed optimizers-2.1 requests-2.26.0\n"
          ]
        },
        {
          "output_type": "display_data",
          "data": {
            "application/vnd.colab-display-data+json": {
              "pip_warning": {
                "packages": [
                  "requests"
                ]
              }
            }
          },
          "metadata": {}
        }
      ]
    },
    {
      "cell_type": "code",
      "metadata": {
        "id": "50b64J3pQg1A"
      },
      "source": [
        "train_Data = \"/content/drive/MyDrive/train\"\n",
        "test_Data=\"/content/drive/MyDrive/val\""
      ],
      "execution_count": 3,
      "outputs": []
    },
    {
      "cell_type": "code",
      "metadata": {
        "id": "bWgdw7UcTvJB"
      },
      "source": [
        "import matplotlib.pyplot as plt\n"
      ],
      "execution_count": 4,
      "outputs": []
    },
    {
      "cell_type": "code",
      "metadata": {
        "id": "pJkV6Iy5Q20N"
      },
      "source": [
        "def plotimages(images_arr):\n",
        "  fig,axes = plt.subplots(1,5,figsize=(20,20))\n",
        "  axes=axes.flatten()\n",
        "  for img,ax in zip(images_arr,axes):\n",
        "    ax.imshow(img)\n",
        "    plt.tight_layout()\n",
        "    plt.show()"
      ],
      "execution_count": 5,
      "outputs": []
    },
    {
      "cell_type": "code",
      "metadata": {
        "id": "dNsu2ogBTuYE"
      },
      "source": [
        "tr_data_gen = ImageDataGenerator(rescale=1./255,\n",
        "                             rotation_range=40,\n",
        "                             width_shift_range=0.2,\n",
        "                             height_shift_range=0.2,\n",
        "                             shear_range=0.2,\n",
        "                             zoom_range=0.2,\n",
        "                             horizontal_flip = True,\n",
        "                             fill_mode = 'nearest',\n",
        "\n",
        "                             )"
      ],
      "execution_count": 6,
      "outputs": []
    },
    {
      "cell_type": "code",
      "metadata": {
        "colab": {
          "base_uri": "https://localhost:8080/"
        },
        "id": "ELN200Y6Tpxg",
        "outputId": "42ebaa4f-36bb-4a6f-8185-6074c72958bb"
      },
      "source": [
        "tr_data = tr_data_gen.flow_from_directory('/content/drive/MyDrive/train',\n",
        "                                               target_size=(150,150),\n",
        "                                               batch_size=32,\n",
        "                                               class_mode='binary')"
      ],
      "execution_count": 7,
      "outputs": [
        {
          "output_type": "stream",
          "name": "stdout",
          "text": [
            "Found 1951 images belonging to 4 classes.\n"
          ]
        }
      ]
    },
    {
      "cell_type": "code",
      "metadata": {
        "colab": {
          "base_uri": "https://localhost:8080/"
        },
        "id": "99BHthHhWtbp",
        "outputId": "e5650968-0dc0-40e5-bb58-5bb2215ac607"
      },
      "source": [
        "tr_data.class_indices"
      ],
      "execution_count": 8,
      "outputs": [
        {
          "output_type": "execute_result",
          "data": {
            "text/plain": [
              "{'diseased cotton leaf': 0,\n",
              " 'diseased cotton plant': 1,\n",
              " 'fresh cotton leaf': 2,\n",
              " 'fresh cotton plant': 3}"
            ]
          },
          "metadata": {},
          "execution_count": 8
        }
      ]
    },
    {
      "cell_type": "code",
      "metadata": {
        "id": "VAhJbSDgXas5"
      },
      "source": [
        "te_data_gen=ImageDataGenerator(1./255)"
      ],
      "execution_count": 9,
      "outputs": []
    },
    {
      "cell_type": "code",
      "metadata": {
        "colab": {
          "base_uri": "https://localhost:8080/"
        },
        "id": "eaTId9ScXd_V",
        "outputId": "703f33da-a13a-4d0e-a383-f85c4714533d"
      },
      "source": [
        "te_data = te_data_gen.flow_from_directory(\"/content/drive/MyDrive/val\",\n",
        "                                       target_size=(150,150),\n",
        "                                               batch_size=32,\n",
        "                                               class_mode='binary')"
      ],
      "execution_count": 10,
      "outputs": [
        {
          "output_type": "stream",
          "name": "stdout",
          "text": [
            "Found 324 images belonging to 4 classes.\n"
          ]
        }
      ]
    },
    {
      "cell_type": "code",
      "metadata": {
        "id": "3oIYPPPPX9Up"
      },
      "source": [
        "# images = [tr_data[0][0][0] for i in range(20)]\n",
        "# plotimages(images)"
      ],
      "execution_count": 11,
      "outputs": []
    },
    {
      "cell_type": "code",
      "metadata": {
        "id": "jItRNDY_Ynif"
      },
      "source": [
        "m_path = '/content/drive/MyDrive/Model'\n",
        "checkpoint = ModelCheckpoint(m_path,monitor='val_accuracy',verbose=1,save_best_only=True,mode='max')\n",
        "cllbacks_list = [checkpoint]"
      ],
      "execution_count": 12,
      "outputs": []
    },
    {
      "cell_type": "code",
      "metadata": {
        "colab": {
          "base_uri": "https://localhost:8080/"
        },
        "id": "k7P_C5TRb8Hg",
        "outputId": "d09a2e02-255d-481a-968f-b167f2d47f32"
      },
      "source": [
        "model = keras.Sequential([\n",
        "                                    keras.layers.Conv2D(filters=32,kernel_size=3,input_shape=[150,150,3]),\n",
        "                                    keras.layers.MaxPooling2D(pool_size=(2,2)),\n",
        "                                    keras.layers.Conv2D(filters=64, kernel_size=3),\n",
        "                                    keras.layers.MaxPooling2D(pool_size=(2,2)),\n",
        "                                    keras.layers.Conv2D(filters=128,kernel_size=3),\n",
        "                                    keras.layers.MaxPooling2D(pool_size=(2,2)),\n",
        "                                    keras.layers.Conv2D(filters=256,kernel_size=3),\n",
        "                                    keras.layers.MaxPooling2D(pool_size=(2,2)),\n",
        "\n",
        "                                    keras.layers.Dropout(0.5),\n",
        "                                    keras.layers.Flatten(),\n",
        "                                    keras.layers.Dense(units=128,activation='relu'),\n",
        "                                    keras.layers.Dropout(0.1),\n",
        "                                    keras.layers.Dense(units=256,activation='relu'),\n",
        "                                    keras.layers.Dropout(0.25),\n",
        "                                    keras.layers.Dense(units=4,activation='softmax')\n",
        "])\n",
        "\n",
        "model.compile(optimizer=Adam(lr=0.001),loss='sparse_categorical_crossentropy',metrics=['accuracy'])"
      ],
      "execution_count": 22,
      "outputs": [
        {
          "output_type": "stream",
          "name": "stderr",
          "text": [
            "/usr/local/lib/python3.7/dist-packages/keras/optimizer_v2/adam.py:105: UserWarning: The `lr` argument is deprecated, use `learning_rate` instead.\n",
            "  super(Adam, self).__init__(name, **kwargs)\n"
          ]
        }
      ]
    },
    {
      "cell_type": "code",
      "metadata": {
        "colab": {
          "base_uri": "https://localhost:8080/"
        },
        "id": "LUpOyf2UCxkg",
        "outputId": "00e3dc45-55d3-4cd7-b678-7991d16313a1"
      },
      "source": [
        "history = model.fit(tr_data,\n",
        "                    epochs=100,\n",
        "                    verbose=1,\n",
        "                    validation_data=te_data,\n",
        "                    callbacks=cllbacks_list)"
      ],
      "execution_count": 24,
      "outputs": [
        {
          "output_type": "stream",
          "name": "stdout",
          "text": [
            "Epoch 1/100\n",
            "61/61 [==============================] - ETA: 0s - loss: 1.2287 - accuracy: 0.4644 "
          ]
        },
        {
          "output_type": "stream",
          "name": "stderr",
          "text": [
            "/usr/local/lib/python3.7/dist-packages/keras_preprocessing/image/image_data_generator.py:720: UserWarning: This ImageDataGenerator specifies `featurewise_center`, but it hasn't been fit on any training data. Fit it first by calling `.fit(numpy_data)`.\n",
            "  warnings.warn('This ImageDataGenerator specifies '\n"
          ]
        },
        {
          "output_type": "stream",
          "name": "stdout",
          "text": [
            "\n",
            "Epoch 00001: val_accuracy improved from -inf to 0.52778, saving model to /content/drive/MyDrive/Model\n",
            "INFO:tensorflow:Assets written to: /content/drive/MyDrive/Model/assets\n",
            "61/61 [==============================] - 1459s 24s/step - loss: 1.2287 - accuracy: 0.4644 - val_loss: 96.3283 - val_accuracy: 0.5278\n",
            "Epoch 2/100\n",
            "61/61 [==============================] - ETA: 0s - loss: 0.9545 - accuracy: 0.6161"
          ]
        },
        {
          "output_type": "stream",
          "name": "stderr",
          "text": [
            "/usr/local/lib/python3.7/dist-packages/keras_preprocessing/image/image_data_generator.py:720: UserWarning: This ImageDataGenerator specifies `featurewise_center`, but it hasn't been fit on any training data. Fit it first by calling `.fit(numpy_data)`.\n",
            "  warnings.warn('This ImageDataGenerator specifies '\n"
          ]
        },
        {
          "output_type": "stream",
          "name": "stdout",
          "text": [
            "\n",
            "Epoch 00002: val_accuracy improved from 0.52778 to 0.66667, saving model to /content/drive/MyDrive/Model\n",
            "INFO:tensorflow:Assets written to: /content/drive/MyDrive/Model/assets\n",
            "61/61 [==============================] - 32s 527ms/step - loss: 0.9545 - accuracy: 0.6161 - val_loss: 113.0496 - val_accuracy: 0.6667\n",
            "Epoch 3/100\n",
            "61/61 [==============================] - ETA: 0s - loss: 0.9199 - accuracy: 0.6279"
          ]
        },
        {
          "output_type": "stream",
          "name": "stderr",
          "text": [
            "/usr/local/lib/python3.7/dist-packages/keras_preprocessing/image/image_data_generator.py:720: UserWarning: This ImageDataGenerator specifies `featurewise_center`, but it hasn't been fit on any training data. Fit it first by calling `.fit(numpy_data)`.\n",
            "  warnings.warn('This ImageDataGenerator specifies '\n"
          ]
        },
        {
          "output_type": "stream",
          "name": "stdout",
          "text": [
            "\n",
            "Epoch 00003: val_accuracy did not improve from 0.66667\n",
            "\b\b\b\b\b\b\b\b\b\b\b\b\b\b\b\b\b\b\b\b\b\b\b\b\b\b\b\b\b\b\b\b\b\b\b\b\b\b\b\b\b\b\b\b\b\b\b\b\b\b\b\b\b\b\b\b\b\b\b\b\b\b\b\b\b\b\b\b\b\b\b\b\b\b\b\b\b\b\b\b\b\b\r61/61 [==============================] - 30s 485ms/step - loss: 0.9199 - accuracy: 0.6279 - val_loss: 177.3313 - val_accuracy: 0.5463\n",
            "Epoch 4/100\n",
            "61/61 [==============================] - ETA: 0s - loss: 0.8873 - accuracy: 0.6627\n",
            "Epoch 00004: val_accuracy improved from 0.66667 to 0.73765, saving model to /content/drive/MyDrive/Model\n",
            "INFO:tensorflow:Assets written to: /content/drive/MyDrive/Model/assets\n",
            "61/61 [==============================] - 32s 518ms/step - loss: 0.8873 - accuracy: 0.6627 - val_loss: 76.5972 - val_accuracy: 0.7377\n",
            "Epoch 5/100\n",
            "61/61 [==============================] - ETA: 0s - loss: 0.8000 - accuracy: 0.6955"
          ]
        },
        {
          "output_type": "stream",
          "name": "stderr",
          "text": [
            "/usr/local/lib/python3.7/dist-packages/keras_preprocessing/image/image_data_generator.py:720: UserWarning: This ImageDataGenerator specifies `featurewise_center`, but it hasn't been fit on any training data. Fit it first by calling `.fit(numpy_data)`.\n",
            "  warnings.warn('This ImageDataGenerator specifies '\n"
          ]
        },
        {
          "output_type": "stream",
          "name": "stdout",
          "text": [
            "\n",
            "Epoch 00005: val_accuracy did not improve from 0.73765\n",
            "\b\b\b\b\b\b\b\b\b\b\b\b\b\b\b\b\b\b\b\b\b\b\b\b\b\b\b\b\b\b\b\b\b\b\b\b\b\b\b\b\b\b\b\b\b\b\b\b\b\b\b\b\b\b\b\b\b\b\b\b\b\b\b\b\b\b\b\b\b\b\b\b\b\b\b\b\b\b\b\b\b\b\r61/61 [==============================] - 30s 487ms/step - loss: 0.8000 - accuracy: 0.6955 - val_loss: 133.2202 - val_accuracy: 0.6265\n",
            "Epoch 6/100\n",
            "61/61 [==============================] - ETA: 0s - loss: 0.7529 - accuracy: 0.7089\n",
            "Epoch 00006: val_accuracy did not improve from 0.73765\n",
            "61/61 [==============================] - 29s 481ms/step - loss: 0.7529 - accuracy: 0.7089 - val_loss: 114.3456 - val_accuracy: 0.7284\n",
            "Epoch 7/100\n",
            "61/61 [==============================] - ETA: 0s - loss: 0.6849 - accuracy: 0.7396\n",
            "Epoch 00007: val_accuracy did not improve from 0.73765\n",
            "61/61 [==============================] - 32s 527ms/step - loss: 0.6849 - accuracy: 0.7396 - val_loss: 123.2492 - val_accuracy: 0.6821\n",
            "Epoch 8/100\n",
            "61/61 [==============================] - ETA: 0s - loss: 0.6116 - accuracy: 0.7509\n",
            "Epoch 00008: val_accuracy improved from 0.73765 to 0.85185, saving model to /content/drive/MyDrive/Model\n",
            "INFO:tensorflow:Assets written to: /content/drive/MyDrive/Model/assets\n",
            "61/61 [==============================] - 32s 522ms/step - loss: 0.6116 - accuracy: 0.7509 - val_loss: 64.5758 - val_accuracy: 0.8519\n",
            "Epoch 9/100\n",
            "61/61 [==============================] - ETA: 0s - loss: 0.5328 - accuracy: 0.7842"
          ]
        },
        {
          "output_type": "stream",
          "name": "stderr",
          "text": [
            "/usr/local/lib/python3.7/dist-packages/keras_preprocessing/image/image_data_generator.py:720: UserWarning: This ImageDataGenerator specifies `featurewise_center`, but it hasn't been fit on any training data. Fit it first by calling `.fit(numpy_data)`.\n",
            "  warnings.warn('This ImageDataGenerator specifies '\n"
          ]
        },
        {
          "output_type": "stream",
          "name": "stdout",
          "text": [
            "\n",
            "Epoch 00009: val_accuracy did not improve from 0.85185\n",
            "\b\b\b\b\b\b\b\b\b\b\b\b\b\b\b\b\b\b\b\b\b\b\b\b\b\b\b\b\b\b\b\b\b\b\b\b\b\b\b\b\b\b\b\b\b\b\b\b\b\b\b\b\b\b\b\b\b\b\b\b\b\b\b\b\b\b\b\b\b\b\b\b\b\b\b\b\b\b\b\b\b\b\r61/61 [==============================] - 30s 496ms/step - loss: 0.5328 - accuracy: 0.7842 - val_loss: 77.3577 - val_accuracy: 0.7377\n",
            "Epoch 10/100\n",
            "61/61 [==============================] - ETA: 0s - loss: 0.5661 - accuracy: 0.7781\n",
            "Epoch 00010: val_accuracy did not improve from 0.85185\n",
            "61/61 [==============================] - 30s 493ms/step - loss: 0.5661 - accuracy: 0.7781 - val_loss: 31.7803 - val_accuracy: 0.8395\n",
            "Epoch 11/100\n",
            "61/61 [==============================] - ETA: 0s - loss: 0.5233 - accuracy: 0.8032\n",
            "Epoch 00011: val_accuracy did not improve from 0.85185\n",
            "61/61 [==============================] - 30s 485ms/step - loss: 0.5233 - accuracy: 0.8032 - val_loss: 51.9530 - val_accuracy: 0.8179\n",
            "Epoch 12/100\n",
            "61/61 [==============================] - ETA: 0s - loss: 0.4331 - accuracy: 0.8329\n",
            "Epoch 00012: val_accuracy did not improve from 0.85185\n",
            "61/61 [==============================] - 30s 485ms/step - loss: 0.4331 - accuracy: 0.8329 - val_loss: 71.0069 - val_accuracy: 0.8056\n",
            "Epoch 13/100\n",
            "61/61 [==============================] - ETA: 0s - loss: 0.4330 - accuracy: 0.8293\n",
            "Epoch 00013: val_accuracy did not improve from 0.85185\n",
            "61/61 [==============================] - 30s 484ms/step - loss: 0.4330 - accuracy: 0.8293 - val_loss: 51.5382 - val_accuracy: 0.8272\n",
            "Epoch 14/100\n",
            "61/61 [==============================] - ETA: 0s - loss: 0.4753 - accuracy: 0.8196\n",
            "Epoch 00014: val_accuracy did not improve from 0.85185\n",
            "61/61 [==============================] - 30s 486ms/step - loss: 0.4753 - accuracy: 0.8196 - val_loss: 59.4255 - val_accuracy: 0.7840\n",
            "Epoch 15/100\n",
            "61/61 [==============================] - ETA: 0s - loss: 0.4291 - accuracy: 0.8380\n",
            "Epoch 00015: val_accuracy did not improve from 0.85185\n",
            "61/61 [==============================] - 30s 490ms/step - loss: 0.4291 - accuracy: 0.8380 - val_loss: 48.0282 - val_accuracy: 0.8272\n",
            "Epoch 16/100\n",
            "61/61 [==============================] - ETA: 0s - loss: 0.4078 - accuracy: 0.8457\n",
            "Epoch 00016: val_accuracy did not improve from 0.85185\n",
            "61/61 [==============================] - 30s 490ms/step - loss: 0.4078 - accuracy: 0.8457 - val_loss: 163.2232 - val_accuracy: 0.6358\n",
            "Epoch 17/100\n",
            "61/61 [==============================] - ETA: 0s - loss: 0.4186 - accuracy: 0.8544\n",
            "Epoch 00017: val_accuracy did not improve from 0.85185\n",
            "61/61 [==============================] - 30s 490ms/step - loss: 0.4186 - accuracy: 0.8544 - val_loss: 193.3812 - val_accuracy: 0.6667\n",
            "Epoch 18/100\n",
            "61/61 [==============================] - ETA: 0s - loss: 0.3564 - accuracy: 0.8719\n",
            "Epoch 00018: val_accuracy did not improve from 0.85185\n",
            "61/61 [==============================] - 30s 488ms/step - loss: 0.3564 - accuracy: 0.8719 - val_loss: 133.1917 - val_accuracy: 0.6605\n",
            "Epoch 19/100\n",
            "61/61 [==============================] - ETA: 0s - loss: 0.3910 - accuracy: 0.8529\n",
            "Epoch 00019: val_accuracy did not improve from 0.85185\n",
            "61/61 [==============================] - 29s 483ms/step - loss: 0.3910 - accuracy: 0.8529 - val_loss: 380.9135 - val_accuracy: 0.5093\n",
            "Epoch 20/100\n",
            "61/61 [==============================] - ETA: 0s - loss: 0.3566 - accuracy: 0.8590\n",
            "Epoch 00020: val_accuracy did not improve from 0.85185\n",
            "61/61 [==============================] - 29s 483ms/step - loss: 0.3566 - accuracy: 0.8590 - val_loss: 128.7116 - val_accuracy: 0.6944\n",
            "Epoch 21/100\n",
            "61/61 [==============================] - ETA: 0s - loss: 0.3096 - accuracy: 0.8806\n",
            "Epoch 00021: val_accuracy did not improve from 0.85185\n",
            "61/61 [==============================] - 29s 481ms/step - loss: 0.3096 - accuracy: 0.8806 - val_loss: 101.3259 - val_accuracy: 0.7932\n",
            "Epoch 22/100\n",
            "61/61 [==============================] - ETA: 0s - loss: 0.3073 - accuracy: 0.8877\n",
            "Epoch 00022: val_accuracy did not improve from 0.85185\n",
            "61/61 [==============================] - 29s 482ms/step - loss: 0.3073 - accuracy: 0.8877 - val_loss: 101.9299 - val_accuracy: 0.8210\n",
            "Epoch 23/100\n",
            "61/61 [==============================] - ETA: 0s - loss: 0.3596 - accuracy: 0.8760\n",
            "Epoch 00023: val_accuracy did not improve from 0.85185\n",
            "61/61 [==============================] - 30s 485ms/step - loss: 0.3596 - accuracy: 0.8760 - val_loss: 100.5956 - val_accuracy: 0.7840\n",
            "Epoch 24/100\n",
            "61/61 [==============================] - ETA: 0s - loss: 0.3528 - accuracy: 0.8770\n",
            "Epoch 00024: val_accuracy did not improve from 0.85185\n",
            "61/61 [==============================] - 30s 490ms/step - loss: 0.3528 - accuracy: 0.8770 - val_loss: 71.0542 - val_accuracy: 0.8117\n",
            "Epoch 25/100\n",
            "61/61 [==============================] - ETA: 0s - loss: 0.3519 - accuracy: 0.8688\n",
            "Epoch 00025: val_accuracy improved from 0.85185 to 0.87654, saving model to /content/drive/MyDrive/Model\n",
            "INFO:tensorflow:Assets written to: /content/drive/MyDrive/Model/assets\n",
            "61/61 [==============================] - 32s 524ms/step - loss: 0.3519 - accuracy: 0.8688 - val_loss: 37.7368 - val_accuracy: 0.8765\n",
            "Epoch 26/100\n",
            "61/61 [==============================] - ETA: 0s - loss: 0.2985 - accuracy: 0.8919"
          ]
        },
        {
          "output_type": "stream",
          "name": "stderr",
          "text": [
            "/usr/local/lib/python3.7/dist-packages/keras_preprocessing/image/image_data_generator.py:720: UserWarning: This ImageDataGenerator specifies `featurewise_center`, but it hasn't been fit on any training data. Fit it first by calling `.fit(numpy_data)`.\n",
            "  warnings.warn('This ImageDataGenerator specifies '\n"
          ]
        },
        {
          "output_type": "stream",
          "name": "stdout",
          "text": [
            "\n",
            "Epoch 00026: val_accuracy did not improve from 0.87654\n",
            "\b\b\b\b\b\b\b\b\b\b\b\b\b\b\b\b\b\b\b\b\b\b\b\b\b\b\b\b\b\b\b\b\b\b\b\b\b\b\b\b\b\b\b\b\b\b\b\b\b\b\b\b\b\b\b\b\b\b\b\b\b\b\b\b\b\b\b\b\b\b\b\b\b\b\b\b\b\b\b\b\b\b\r61/61 [==============================] - 30s 493ms/step - loss: 0.2985 - accuracy: 0.8919 - val_loss: 249.8928 - val_accuracy: 0.6235\n",
            "Epoch 27/100\n",
            "61/61 [==============================] - ETA: 0s - loss: 0.3808 - accuracy: 0.8565\n",
            "Epoch 00027: val_accuracy did not improve from 0.87654\n",
            "61/61 [==============================] - 30s 488ms/step - loss: 0.3808 - accuracy: 0.8565 - val_loss: 174.7626 - val_accuracy: 0.6667\n",
            "Epoch 28/100\n",
            "61/61 [==============================] - ETA: 0s - loss: 0.3399 - accuracy: 0.8708\n",
            "Epoch 00028: val_accuracy did not improve from 0.87654\n",
            "61/61 [==============================] - 30s 490ms/step - loss: 0.3399 - accuracy: 0.8708 - val_loss: 57.8029 - val_accuracy: 0.8302\n",
            "Epoch 29/100\n",
            "61/61 [==============================] - ETA: 0s - loss: 0.2729 - accuracy: 0.9036\n",
            "Epoch 00029: val_accuracy did not improve from 0.87654\n",
            "61/61 [==============================] - 30s 487ms/step - loss: 0.2729 - accuracy: 0.9036 - val_loss: 198.4967 - val_accuracy: 0.7130\n",
            "Epoch 30/100\n",
            "61/61 [==============================] - ETA: 0s - loss: 0.2667 - accuracy: 0.9062\n",
            "Epoch 00030: val_accuracy did not improve from 0.87654\n",
            "61/61 [==============================] - 30s 486ms/step - loss: 0.2667 - accuracy: 0.9062 - val_loss: 169.1079 - val_accuracy: 0.6111\n",
            "Epoch 31/100\n",
            "61/61 [==============================] - ETA: 0s - loss: 0.2805 - accuracy: 0.8980\n",
            "Epoch 00031: val_accuracy did not improve from 0.87654\n",
            "61/61 [==============================] - 30s 484ms/step - loss: 0.2805 - accuracy: 0.8980 - val_loss: 117.5447 - val_accuracy: 0.7315\n",
            "Epoch 32/100\n",
            "61/61 [==============================] - ETA: 0s - loss: 0.2773 - accuracy: 0.8944\n",
            "Epoch 00032: val_accuracy did not improve from 0.87654\n",
            "61/61 [==============================] - 30s 485ms/step - loss: 0.2773 - accuracy: 0.8944 - val_loss: 239.6989 - val_accuracy: 0.6759\n",
            "Epoch 33/100\n",
            "61/61 [==============================] - ETA: 0s - loss: 0.2555 - accuracy: 0.9062\n",
            "Epoch 00033: val_accuracy did not improve from 0.87654\n",
            "61/61 [==============================] - 29s 483ms/step - loss: 0.2555 - accuracy: 0.9062 - val_loss: 176.6627 - val_accuracy: 0.7315\n",
            "Epoch 34/100\n",
            "61/61 [==============================] - ETA: 0s - loss: 0.2573 - accuracy: 0.9021\n",
            "Epoch 00034: val_accuracy did not improve from 0.87654\n",
            "61/61 [==============================] - 30s 484ms/step - loss: 0.2573 - accuracy: 0.9021 - val_loss: 164.9194 - val_accuracy: 0.6975\n",
            "Epoch 35/100\n",
            "61/61 [==============================] - ETA: 0s - loss: 0.2461 - accuracy: 0.9098\n",
            "Epoch 00035: val_accuracy did not improve from 0.87654\n",
            "61/61 [==============================] - 29s 482ms/step - loss: 0.2461 - accuracy: 0.9098 - val_loss: 360.8122 - val_accuracy: 0.5123\n",
            "Epoch 36/100\n",
            "61/61 [==============================] - ETA: 0s - loss: 0.2545 - accuracy: 0.9047\n",
            "Epoch 00036: val_accuracy did not improve from 0.87654\n",
            "61/61 [==============================] - 30s 488ms/step - loss: 0.2545 - accuracy: 0.9047 - val_loss: 172.9361 - val_accuracy: 0.6790\n",
            "Epoch 37/100\n",
            "61/61 [==============================] - ETA: 0s - loss: 0.2545 - accuracy: 0.9103\n",
            "Epoch 00037: val_accuracy did not improve from 0.87654\n",
            "61/61 [==============================] - 30s 486ms/step - loss: 0.2545 - accuracy: 0.9103 - val_loss: 114.4538 - val_accuracy: 0.7346\n",
            "Epoch 38/100\n",
            "61/61 [==============================] - ETA: 0s - loss: 0.2236 - accuracy: 0.9200\n",
            "Epoch 00038: val_accuracy did not improve from 0.87654\n",
            "61/61 [==============================] - 30s 490ms/step - loss: 0.2236 - accuracy: 0.9200 - val_loss: 332.5453 - val_accuracy: 0.6019\n",
            "Epoch 39/100\n",
            "61/61 [==============================] - ETA: 0s - loss: 0.2241 - accuracy: 0.9149\n",
            "Epoch 00039: val_accuracy improved from 0.87654 to 0.88889, saving model to /content/drive/MyDrive/Model\n",
            "INFO:tensorflow:Assets written to: /content/drive/MyDrive/Model/assets\n",
            "61/61 [==============================] - 32s 522ms/step - loss: 0.2241 - accuracy: 0.9149 - val_loss: 46.8215 - val_accuracy: 0.8889\n",
            "Epoch 40/100\n",
            "61/61 [==============================] - ETA: 0s - loss: 0.2467 - accuracy: 0.9200"
          ]
        },
        {
          "output_type": "stream",
          "name": "stderr",
          "text": [
            "/usr/local/lib/python3.7/dist-packages/keras_preprocessing/image/image_data_generator.py:720: UserWarning: This ImageDataGenerator specifies `featurewise_center`, but it hasn't been fit on any training data. Fit it first by calling `.fit(numpy_data)`.\n",
            "  warnings.warn('This ImageDataGenerator specifies '\n"
          ]
        },
        {
          "output_type": "stream",
          "name": "stdout",
          "text": [
            "\n",
            "Epoch 00040: val_accuracy did not improve from 0.88889\n",
            "\b\b\b\b\b\b\b\b\b\b\b\b\b\b\b\b\b\b\b\b\b\b\b\b\b\b\b\b\b\b\b\b\b\b\b\b\b\b\b\b\b\b\b\b\b\b\b\b\b\b\b\b\b\b\b\b\b\b\b\b\b\b\b\b\b\b\b\b\b\b\b\b\b\b\b\b\b\b\b\b\b\b\r61/61 [==============================] - 30s 494ms/step - loss: 0.2467 - accuracy: 0.9200 - val_loss: 209.9687 - val_accuracy: 0.6759\n",
            "Epoch 41/100\n",
            "61/61 [==============================] - ETA: 0s - loss: 0.1920 - accuracy: 0.9293\n",
            "Epoch 00041: val_accuracy did not improve from 0.88889\n",
            "61/61 [==============================] - 30s 488ms/step - loss: 0.1920 - accuracy: 0.9293 - val_loss: 194.5687 - val_accuracy: 0.7068\n",
            "Epoch 42/100\n",
            "61/61 [==============================] - ETA: 0s - loss: 0.2311 - accuracy: 0.9247\n",
            "Epoch 00042: val_accuracy did not improve from 0.88889\n",
            "61/61 [==============================] - 30s 488ms/step - loss: 0.2311 - accuracy: 0.9247 - val_loss: 484.3953 - val_accuracy: 0.5370\n",
            "Epoch 43/100\n",
            "61/61 [==============================] - ETA: 0s - loss: 0.2529 - accuracy: 0.9159\n",
            "Epoch 00043: val_accuracy did not improve from 0.88889\n",
            "61/61 [==============================] - 30s 488ms/step - loss: 0.2529 - accuracy: 0.9159 - val_loss: 232.7172 - val_accuracy: 0.7037\n",
            "Epoch 44/100\n",
            "61/61 [==============================] - ETA: 0s - loss: 0.2244 - accuracy: 0.9200\n",
            "Epoch 00044: val_accuracy did not improve from 0.88889\n",
            "61/61 [==============================] - 30s 490ms/step - loss: 0.2244 - accuracy: 0.9200 - val_loss: 446.1497 - val_accuracy: 0.5679\n",
            "Epoch 45/100\n",
            "61/61 [==============================] - ETA: 0s - loss: 0.2507 - accuracy: 0.9154\n",
            "Epoch 00045: val_accuracy did not improve from 0.88889\n",
            "61/61 [==============================] - 30s 487ms/step - loss: 0.2507 - accuracy: 0.9154 - val_loss: 208.9274 - val_accuracy: 0.6944\n",
            "Epoch 46/100\n",
            "61/61 [==============================] - ETA: 0s - loss: 0.2410 - accuracy: 0.9103\n",
            "Epoch 00046: val_accuracy did not improve from 0.88889\n",
            "61/61 [==============================] - 30s 491ms/step - loss: 0.2410 - accuracy: 0.9103 - val_loss: 281.0412 - val_accuracy: 0.6358\n",
            "Epoch 47/100\n",
            "61/61 [==============================] - ETA: 0s - loss: 0.2185 - accuracy: 0.9288\n",
            "Epoch 00047: val_accuracy did not improve from 0.88889\n",
            "61/61 [==============================] - 30s 489ms/step - loss: 0.2185 - accuracy: 0.9288 - val_loss: 198.7316 - val_accuracy: 0.6358\n",
            "Epoch 48/100\n",
            "61/61 [==============================] - ETA: 0s - loss: 0.2051 - accuracy: 0.9334\n",
            "Epoch 00048: val_accuracy did not improve from 0.88889\n",
            "61/61 [==============================] - 30s 489ms/step - loss: 0.2051 - accuracy: 0.9334 - val_loss: 286.6306 - val_accuracy: 0.6019\n",
            "Epoch 49/100\n",
            "61/61 [==============================] - ETA: 0s - loss: 0.2086 - accuracy: 0.9272\n",
            "Epoch 00049: val_accuracy did not improve from 0.88889\n",
            "61/61 [==============================] - 30s 486ms/step - loss: 0.2086 - accuracy: 0.9272 - val_loss: 67.0264 - val_accuracy: 0.8673\n",
            "Epoch 50/100\n",
            "61/61 [==============================] - ETA: 0s - loss: 0.2729 - accuracy: 0.9042\n",
            "Epoch 00050: val_accuracy did not improve from 0.88889\n",
            "61/61 [==============================] - 30s 485ms/step - loss: 0.2729 - accuracy: 0.9042 - val_loss: 515.5722 - val_accuracy: 0.4877\n",
            "Epoch 51/100\n",
            "61/61 [==============================] - ETA: 0s - loss: 0.2757 - accuracy: 0.8990\n",
            "Epoch 00051: val_accuracy did not improve from 0.88889\n",
            "61/61 [==============================] - 29s 483ms/step - loss: 0.2757 - accuracy: 0.8990 - val_loss: 185.1082 - val_accuracy: 0.6481\n",
            "Epoch 52/100\n",
            "61/61 [==============================] - ETA: 0s - loss: 0.2748 - accuracy: 0.9149\n",
            "Epoch 00052: val_accuracy did not improve from 0.88889\n",
            "61/61 [==============================] - 29s 483ms/step - loss: 0.2748 - accuracy: 0.9149 - val_loss: 145.1327 - val_accuracy: 0.7500\n",
            "Epoch 53/100\n",
            "61/61 [==============================] - ETA: 0s - loss: 0.2200 - accuracy: 0.9180\n",
            "Epoch 00053: val_accuracy did not improve from 0.88889\n",
            "61/61 [==============================] - 29s 482ms/step - loss: 0.2200 - accuracy: 0.9180 - val_loss: 63.4096 - val_accuracy: 0.8426\n",
            "Epoch 54/100\n",
            "61/61 [==============================] - ETA: 0s - loss: 0.1851 - accuracy: 0.9395\n",
            "Epoch 00054: val_accuracy did not improve from 0.88889\n",
            "61/61 [==============================] - 30s 484ms/step - loss: 0.1851 - accuracy: 0.9395 - val_loss: 100.0993 - val_accuracy: 0.7963\n",
            "Epoch 55/100\n",
            "61/61 [==============================] - ETA: 0s - loss: 0.1746 - accuracy: 0.9385\n",
            "Epoch 00055: val_accuracy did not improve from 0.88889\n",
            "61/61 [==============================] - 29s 481ms/step - loss: 0.1746 - accuracy: 0.9385 - val_loss: 299.8052 - val_accuracy: 0.5309\n",
            "Epoch 56/100\n",
            "61/61 [==============================] - ETA: 0s - loss: 0.1889 - accuracy: 0.9339\n",
            "Epoch 00056: val_accuracy did not improve from 0.88889\n",
            "61/61 [==============================] - 30s 484ms/step - loss: 0.1889 - accuracy: 0.9339 - val_loss: 44.5977 - val_accuracy: 0.8673\n",
            "Epoch 57/100\n",
            "61/61 [==============================] - ETA: 0s - loss: 0.2428 - accuracy: 0.9129\n",
            "Epoch 00057: val_accuracy did not improve from 0.88889\n",
            "61/61 [==============================] - 30s 484ms/step - loss: 0.2428 - accuracy: 0.9129 - val_loss: 767.3904 - val_accuracy: 0.4691\n",
            "Epoch 58/100\n",
            "61/61 [==============================] - ETA: 0s - loss: 0.2638 - accuracy: 0.9083\n",
            "Epoch 00058: val_accuracy did not improve from 0.88889\n",
            "61/61 [==============================] - 30s 487ms/step - loss: 0.2638 - accuracy: 0.9083 - val_loss: 217.6117 - val_accuracy: 0.7500\n",
            "Epoch 59/100\n",
            "61/61 [==============================] - ETA: 0s - loss: 0.1630 - accuracy: 0.9472\n",
            "Epoch 00059: val_accuracy did not improve from 0.88889\n",
            "61/61 [==============================] - 30s 486ms/step - loss: 0.1630 - accuracy: 0.9472 - val_loss: 120.4223 - val_accuracy: 0.7469\n",
            "Epoch 60/100\n",
            "61/61 [==============================] - ETA: 0s - loss: 0.1386 - accuracy: 0.9580\n",
            "Epoch 00060: val_accuracy improved from 0.88889 to 0.91358, saving model to /content/drive/MyDrive/Model\n",
            "INFO:tensorflow:Assets written to: /content/drive/MyDrive/Model/assets\n",
            "61/61 [==============================] - 32s 519ms/step - loss: 0.1386 - accuracy: 0.9580 - val_loss: 25.1017 - val_accuracy: 0.9136\n",
            "Epoch 61/100\n",
            "61/61 [==============================] - ETA: 0s - loss: 0.2253 - accuracy: 0.9247"
          ]
        },
        {
          "output_type": "stream",
          "name": "stderr",
          "text": [
            "/usr/local/lib/python3.7/dist-packages/keras_preprocessing/image/image_data_generator.py:720: UserWarning: This ImageDataGenerator specifies `featurewise_center`, but it hasn't been fit on any training data. Fit it first by calling `.fit(numpy_data)`.\n",
            "  warnings.warn('This ImageDataGenerator specifies '\n"
          ]
        },
        {
          "output_type": "stream",
          "name": "stdout",
          "text": [
            "\n",
            "Epoch 00061: val_accuracy did not improve from 0.91358\n",
            "\b\b\b\b\b\b\b\b\b\b\b\b\b\b\b\b\b\b\b\b\b\b\b\b\b\b\b\b\b\b\b\b\b\b\b\b\b\b\b\b\b\b\b\b\b\b\b\b\b\b\b\b\b\b\b\b\b\b\b\b\b\b\b\b\b\b\b\b\b\b\b\b\b\b\b\b\b\b\b\b\b\b\r61/61 [==============================] - 30s 487ms/step - loss: 0.2253 - accuracy: 0.9247 - val_loss: 216.2131 - val_accuracy: 0.6914\n",
            "Epoch 62/100\n",
            "61/61 [==============================] - ETA: 0s - loss: 0.2118 - accuracy: 0.9241\n",
            "Epoch 00062: val_accuracy did not improve from 0.91358\n",
            "61/61 [==============================] - 29s 483ms/step - loss: 0.2118 - accuracy: 0.9241 - val_loss: 164.6550 - val_accuracy: 0.7284\n",
            "Epoch 63/100\n",
            "61/61 [==============================] - ETA: 0s - loss: 0.1784 - accuracy: 0.9400\n",
            "Epoch 00063: val_accuracy did not improve from 0.91358\n",
            "61/61 [==============================] - 30s 486ms/step - loss: 0.1784 - accuracy: 0.9400 - val_loss: 251.7217 - val_accuracy: 0.7315\n",
            "Epoch 64/100\n",
            "61/61 [==============================] - ETA: 0s - loss: 0.2470 - accuracy: 0.9236\n",
            "Epoch 00064: val_accuracy did not improve from 0.91358\n",
            "61/61 [==============================] - 30s 491ms/step - loss: 0.2470 - accuracy: 0.9236 - val_loss: 67.4994 - val_accuracy: 0.8056\n",
            "Epoch 65/100\n",
            "61/61 [==============================] - ETA: 0s - loss: 0.1705 - accuracy: 0.9421\n",
            "Epoch 00065: val_accuracy did not improve from 0.91358\n",
            "61/61 [==============================] - 30s 494ms/step - loss: 0.1705 - accuracy: 0.9421 - val_loss: 94.4057 - val_accuracy: 0.7685\n",
            "Epoch 66/100\n",
            "61/61 [==============================] - ETA: 0s - loss: 0.2045 - accuracy: 0.9288\n",
            "Epoch 00066: val_accuracy did not improve from 0.91358\n",
            "61/61 [==============================] - 30s 492ms/step - loss: 0.2045 - accuracy: 0.9288 - val_loss: 129.2040 - val_accuracy: 0.7716\n",
            "Epoch 67/100\n",
            "61/61 [==============================] - ETA: 0s - loss: 0.1786 - accuracy: 0.9395\n",
            "Epoch 00067: val_accuracy did not improve from 0.91358\n",
            "61/61 [==============================] - 30s 491ms/step - loss: 0.1786 - accuracy: 0.9395 - val_loss: 136.4537 - val_accuracy: 0.7593\n",
            "Epoch 68/100\n",
            "61/61 [==============================] - ETA: 0s - loss: 0.1901 - accuracy: 0.9308\n",
            "Epoch 00068: val_accuracy did not improve from 0.91358\n",
            "61/61 [==============================] - 30s 489ms/step - loss: 0.1901 - accuracy: 0.9308 - val_loss: 70.5634 - val_accuracy: 0.8056\n",
            "Epoch 69/100\n",
            "61/61 [==============================] - ETA: 0s - loss: 0.1887 - accuracy: 0.9446\n",
            "Epoch 00069: val_accuracy did not improve from 0.91358\n",
            "61/61 [==============================] - 30s 490ms/step - loss: 0.1887 - accuracy: 0.9446 - val_loss: 107.6391 - val_accuracy: 0.7932\n",
            "Epoch 70/100\n",
            "61/61 [==============================] - ETA: 0s - loss: 0.2092 - accuracy: 0.9288\n",
            "Epoch 00070: val_accuracy did not improve from 0.91358\n",
            "61/61 [==============================] - 30s 488ms/step - loss: 0.2092 - accuracy: 0.9288 - val_loss: 118.5222 - val_accuracy: 0.7747\n",
            "Epoch 71/100\n",
            "61/61 [==============================] - ETA: 0s - loss: 0.2159 - accuracy: 0.9318\n",
            "Epoch 00071: val_accuracy did not improve from 0.91358\n",
            "61/61 [==============================] - 30s 487ms/step - loss: 0.2159 - accuracy: 0.9318 - val_loss: 138.9540 - val_accuracy: 0.7191\n",
            "Epoch 72/100\n",
            "61/61 [==============================] - ETA: 0s - loss: 0.2146 - accuracy: 0.9329\n",
            "Epoch 00072: val_accuracy did not improve from 0.91358\n",
            "61/61 [==============================] - 30s 490ms/step - loss: 0.2146 - accuracy: 0.9329 - val_loss: 142.4710 - val_accuracy: 0.7531\n",
            "Epoch 73/100\n",
            "61/61 [==============================] - ETA: 0s - loss: 0.1640 - accuracy: 0.9405\n",
            "Epoch 00073: val_accuracy did not improve from 0.91358\n",
            "61/61 [==============================] - 30s 489ms/step - loss: 0.1640 - accuracy: 0.9405 - val_loss: 154.0094 - val_accuracy: 0.7222\n",
            "Epoch 74/100\n",
            "61/61 [==============================] - ETA: 0s - loss: 0.1429 - accuracy: 0.9539\n",
            "Epoch 00074: val_accuracy improved from 0.91358 to 0.95062, saving model to /content/drive/MyDrive/Model\n",
            "INFO:tensorflow:Assets written to: /content/drive/MyDrive/Model/assets\n",
            "61/61 [==============================] - 32s 523ms/step - loss: 0.1429 - accuracy: 0.9539 - val_loss: 19.6091 - val_accuracy: 0.9506\n",
            "Epoch 75/100\n",
            "61/61 [==============================] - ETA: 0s - loss: 0.1633 - accuracy: 0.9380"
          ]
        },
        {
          "output_type": "stream",
          "name": "stderr",
          "text": [
            "/usr/local/lib/python3.7/dist-packages/keras_preprocessing/image/image_data_generator.py:720: UserWarning: This ImageDataGenerator specifies `featurewise_center`, but it hasn't been fit on any training data. Fit it first by calling `.fit(numpy_data)`.\n",
            "  warnings.warn('This ImageDataGenerator specifies '\n"
          ]
        },
        {
          "output_type": "stream",
          "name": "stdout",
          "text": [
            "\n",
            "Epoch 00075: val_accuracy did not improve from 0.95062\n",
            "\b\b\b\b\b\b\b\b\b\b\b\b\b\b\b\b\b\b\b\b\b\b\b\b\b\b\b\b\b\b\b\b\b\b\b\b\b\b\b\b\b\b\b\b\b\b\b\b\b\b\b\b\b\b\b\b\b\b\b\b\b\b\b\b\b\b\b\b\b\b\b\b\b\b\b\b\b\b\b\b\b\b\r61/61 [==============================] - 30s 497ms/step - loss: 0.1633 - accuracy: 0.9380 - val_loss: 77.0782 - val_accuracy: 0.8333\n",
            "Epoch 76/100\n",
            "61/61 [==============================] - ETA: 0s - loss: 0.1147 - accuracy: 0.9590\n",
            "Epoch 00076: val_accuracy did not improve from 0.95062\n",
            "61/61 [==============================] - 30s 490ms/step - loss: 0.1147 - accuracy: 0.9590 - val_loss: 76.0361 - val_accuracy: 0.8333\n",
            "Epoch 77/100\n",
            "61/61 [==============================] - ETA: 0s - loss: 0.1875 - accuracy: 0.9349\n",
            "Epoch 00077: val_accuracy did not improve from 0.95062\n",
            "61/61 [==============================] - 30s 487ms/step - loss: 0.1875 - accuracy: 0.9349 - val_loss: 72.9937 - val_accuracy: 0.8642\n",
            "Epoch 78/100\n",
            "61/61 [==============================] - ETA: 0s - loss: 0.1647 - accuracy: 0.9446\n",
            "Epoch 00078: val_accuracy did not improve from 0.95062\n",
            "61/61 [==============================] - 30s 491ms/step - loss: 0.1647 - accuracy: 0.9446 - val_loss: 257.7300 - val_accuracy: 0.6049\n",
            "Epoch 79/100\n",
            "61/61 [==============================] - ETA: 0s - loss: 0.1645 - accuracy: 0.9441\n",
            "Epoch 00079: val_accuracy did not improve from 0.95062\n",
            "61/61 [==============================] - 30s 489ms/step - loss: 0.1645 - accuracy: 0.9441 - val_loss: 38.4594 - val_accuracy: 0.9074\n",
            "Epoch 80/100\n",
            "61/61 [==============================] - ETA: 0s - loss: 0.1698 - accuracy: 0.9411\n",
            "Epoch 00080: val_accuracy did not improve from 0.95062\n",
            "61/61 [==============================] - 30s 490ms/step - loss: 0.1698 - accuracy: 0.9411 - val_loss: 480.9044 - val_accuracy: 0.5247\n",
            "Epoch 81/100\n",
            "61/61 [==============================] - ETA: 0s - loss: 0.1454 - accuracy: 0.9493\n",
            "Epoch 00081: val_accuracy did not improve from 0.95062\n",
            "61/61 [==============================] - 30s 491ms/step - loss: 0.1454 - accuracy: 0.9493 - val_loss: 23.5196 - val_accuracy: 0.9259\n",
            "Epoch 82/100\n",
            "61/61 [==============================] - ETA: 0s - loss: 0.1499 - accuracy: 0.9508\n",
            "Epoch 00082: val_accuracy did not improve from 0.95062\n",
            "61/61 [==============================] - 30s 492ms/step - loss: 0.1499 - accuracy: 0.9508 - val_loss: 94.3400 - val_accuracy: 0.7809\n",
            "Epoch 83/100\n",
            "61/61 [==============================] - ETA: 0s - loss: 0.1774 - accuracy: 0.9436\n",
            "Epoch 00083: val_accuracy did not improve from 0.95062\n",
            "61/61 [==============================] - 30s 492ms/step - loss: 0.1774 - accuracy: 0.9436 - val_loss: 94.9678 - val_accuracy: 0.8395\n",
            "Epoch 84/100\n",
            "61/61 [==============================] - ETA: 0s - loss: 0.1524 - accuracy: 0.9477\n",
            "Epoch 00084: val_accuracy did not improve from 0.95062\n",
            "61/61 [==============================] - 30s 490ms/step - loss: 0.1524 - accuracy: 0.9477 - val_loss: 352.3379 - val_accuracy: 0.5833\n",
            "Epoch 85/100\n",
            "61/61 [==============================] - ETA: 0s - loss: 0.2102 - accuracy: 0.9364\n",
            "Epoch 00085: val_accuracy did not improve from 0.95062\n",
            "61/61 [==============================] - 30s 492ms/step - loss: 0.2102 - accuracy: 0.9364 - val_loss: 78.7886 - val_accuracy: 0.8241\n",
            "Epoch 86/100\n",
            "61/61 [==============================] - ETA: 0s - loss: 0.2145 - accuracy: 0.9339\n",
            "Epoch 00086: val_accuracy did not improve from 0.95062\n",
            "61/61 [==============================] - 30s 494ms/step - loss: 0.2145 - accuracy: 0.9339 - val_loss: 127.0617 - val_accuracy: 0.7593\n",
            "Epoch 87/100\n",
            "61/61 [==============================] - ETA: 0s - loss: 0.1739 - accuracy: 0.9375\n",
            "Epoch 00087: val_accuracy did not improve from 0.95062\n",
            "61/61 [==============================] - 30s 496ms/step - loss: 0.1739 - accuracy: 0.9375 - val_loss: 838.6783 - val_accuracy: 0.3951\n",
            "Epoch 88/100\n",
            "61/61 [==============================] - ETA: 0s - loss: 0.1889 - accuracy: 0.9375\n",
            "Epoch 00088: val_accuracy did not improve from 0.95062\n",
            "61/61 [==============================] - 30s 495ms/step - loss: 0.1889 - accuracy: 0.9375 - val_loss: 101.7500 - val_accuracy: 0.8025\n",
            "Epoch 89/100\n",
            "61/61 [==============================] - ETA: 0s - loss: 0.1860 - accuracy: 0.9385\n",
            "Epoch 00089: val_accuracy did not improve from 0.95062\n",
            "61/61 [==============================] - 30s 494ms/step - loss: 0.1860 - accuracy: 0.9385 - val_loss: 192.1375 - val_accuracy: 0.6821\n",
            "Epoch 90/100\n",
            "61/61 [==============================] - ETA: 0s - loss: 0.1733 - accuracy: 0.9421\n",
            "Epoch 00090: val_accuracy did not improve from 0.95062\n",
            "61/61 [==============================] - 30s 496ms/step - loss: 0.1733 - accuracy: 0.9421 - val_loss: 243.9895 - val_accuracy: 0.6451\n",
            "Epoch 91/100\n",
            "61/61 [==============================] - ETA: 0s - loss: 0.1368 - accuracy: 0.9528\n",
            "Epoch 00091: val_accuracy did not improve from 0.95062\n",
            "61/61 [==============================] - 30s 492ms/step - loss: 0.1368 - accuracy: 0.9528 - val_loss: 37.7529 - val_accuracy: 0.9074\n",
            "Epoch 92/100\n",
            "61/61 [==============================] - ETA: 0s - loss: 0.1508 - accuracy: 0.9487\n",
            "Epoch 00092: val_accuracy did not improve from 0.95062\n",
            "61/61 [==============================] - 30s 494ms/step - loss: 0.1508 - accuracy: 0.9487 - val_loss: 121.9188 - val_accuracy: 0.8580\n",
            "Epoch 93/100\n",
            "61/61 [==============================] - ETA: 0s - loss: 0.1879 - accuracy: 0.9370\n",
            "Epoch 00093: val_accuracy did not improve from 0.95062\n",
            "61/61 [==============================] - 30s 491ms/step - loss: 0.1879 - accuracy: 0.9370 - val_loss: 253.3080 - val_accuracy: 0.7315\n",
            "Epoch 94/100\n",
            "61/61 [==============================] - ETA: 0s - loss: 0.1671 - accuracy: 0.9467\n",
            "Epoch 00094: val_accuracy did not improve from 0.95062\n",
            "61/61 [==============================] - 30s 491ms/step - loss: 0.1671 - accuracy: 0.9467 - val_loss: 70.0824 - val_accuracy: 0.8704\n",
            "Epoch 95/100\n",
            "61/61 [==============================] - ETA: 0s - loss: 0.1689 - accuracy: 0.9477\n",
            "Epoch 00095: val_accuracy did not improve from 0.95062\n",
            "61/61 [==============================] - 30s 488ms/step - loss: 0.1689 - accuracy: 0.9477 - val_loss: 101.7208 - val_accuracy: 0.8395\n",
            "Epoch 96/100\n",
            "61/61 [==============================] - ETA: 0s - loss: 0.1951 - accuracy: 0.9411\n",
            "Epoch 00096: val_accuracy did not improve from 0.95062\n",
            "61/61 [==============================] - 30s 491ms/step - loss: 0.1951 - accuracy: 0.9411 - val_loss: 292.9481 - val_accuracy: 0.6296\n",
            "Epoch 97/100\n",
            "61/61 [==============================] - ETA: 0s - loss: 0.1589 - accuracy: 0.9498\n",
            "Epoch 00097: val_accuracy did not improve from 0.95062\n",
            "61/61 [==============================] - 30s 492ms/step - loss: 0.1589 - accuracy: 0.9498 - val_loss: 44.0227 - val_accuracy: 0.8889\n",
            "Epoch 98/100\n",
            "61/61 [==============================] - ETA: 0s - loss: 0.1456 - accuracy: 0.9554\n",
            "Epoch 00098: val_accuracy did not improve from 0.95062\n",
            "61/61 [==============================] - 30s 494ms/step - loss: 0.1456 - accuracy: 0.9554 - val_loss: 45.1293 - val_accuracy: 0.8827\n",
            "Epoch 99/100\n",
            "61/61 [==============================] - ETA: 0s - loss: 0.1221 - accuracy: 0.9580\n",
            "Epoch 00099: val_accuracy did not improve from 0.95062\n",
            "61/61 [==============================] - 30s 491ms/step - loss: 0.1221 - accuracy: 0.9580 - val_loss: 98.8997 - val_accuracy: 0.8426\n",
            "Epoch 100/100\n",
            "61/61 [==============================] - ETA: 0s - loss: 0.1574 - accuracy: 0.9508\n",
            "Epoch 00100: val_accuracy did not improve from 0.95062\n",
            "61/61 [==============================] - 30s 492ms/step - loss: 0.1574 - accuracy: 0.9508 - val_loss: 36.8347 - val_accuracy: 0.9136\n"
          ]
        }
      ]
    },
    {
      "cell_type": "code",
      "metadata": {
        "colab": {
          "base_uri": "https://localhost:8080/",
          "height": 530
        },
        "id": "XqLV1b87GZww",
        "outputId": "309834e3-d5d4-41ee-e477-7bc145fc3707"
      },
      "source": [
        "import matplotlib.pyplot as plt\n",
        "\n",
        "plt.plot(history.history['loss'], label='train loss')\n",
        "plt.plot(history.history['val_loss'], label='val loss')\n",
        "plt.legend()\n",
        "plt.show()\n",
        "plt.savefig('LossVal_loss')\n",
        "\n",
        "plt.plot(history.history['accuracy'], label='train acc')\n",
        "plt.plot(history.history['val_accuracy'], label='val acc')\n",
        "plt.legend()\n",
        "plt.show()\n",
        "plt.savefig('AccVal_acc')"
      ],
      "execution_count": 27,
      "outputs": [
        {
          "output_type": "display_data",
          "data": {
            "image/png": "[encoded data removed]",
            "text/plain": [
              "<Figure size 432x288 with 1 Axes>"
            ]
          },
          "metadata": {
            "needs_background": "light"
          }
        },
        {
          "output_type": "display_data",
          "data": {
            "image/png": "[encoded data removed]",
            "text/plain": [
              "<Figure size 432x288 with 1 Axes>"
            ]
          },
          "metadata": {
            "needs_background": "light"
          }
        },
        {
          "output_type": "display_data",
          "data": {
            "text/plain": [
              "<Figure size 432x288 with 0 Axes>"
            ]
          },
          "metadata": {}
        }
      ]
    },
    {
      "cell_type": "code",
      "metadata": {
        "colab": {
          "base_uri": "https://localhost:8080/"
        },
        "id": "56go8I3Fdi73",
        "outputId": "d30ff840-55c5-4975-ac44-b6d43bf6e1ac"
      },
      "source": [
        "print(tf. __version__)"
      ],
      "execution_count": 57,
      "outputs": [
        {
          "output_type": "stream",
          "name": "stdout",
          "text": [
            "2.7.0\n"
          ]
        }
      ]
    },
    {
      "cell_type": "code",
      "metadata": {
        "id": "DeLb85iDluHL"
      },
      "source": [
        ""
      ],
      "execution_count": null,
      "outputs": []
    }
  ]
}