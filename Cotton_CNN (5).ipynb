{
  "nbformat": 4,
  "nbformat_minor": 0,
  "metadata": {
    "colab": {
      "name": "Cotton_CNN.ipynb",
      "provenance": [],
      "collapsed_sections": []
    },
    "kernelspec": {
      "name": "python3",
      "display_name": "Python 3"
    },
    "language_info": {
      "name": "python"
    },
    "accelerator": "GPU"
  },
  "cells": [
    {
      "cell_type": "code",
      "metadata": {
        "id": "drBU3hE4QA6k"
      },
      "source": [
        "import keras\n",
        "from keras.preprocessing.image import ImageDataGenerator\n",
        "from tensorflow.keras.optimizers import Adam\n",
        "from keras.callbacks import ModelCheckpoint\n",
        "from tensorflow.keras.models import Sequential\n",
        "from tensorflow.keras import layers\n"
      ],
      "execution_count": 1,
      "outputs": []
    },
    {
      "cell_type": "code",
      "metadata": {
        "id": "QBxtIVVjL7EN"
      },
      "source": [
        "from tensorflow.keras.layers import Input, Lambda, Dense, Flatten\n",
        "from tensorflow.keras.models import Model\n",
        "from tensorflow.keras.applications.inception_v3 import InceptionV3\n",
        "from tensorflow.keras.applications.inception_v3 import preprocess_input\n",
        "from tensorflow.keras.preprocessing import image\n",
        "from tensorflow.keras.preprocessing.image import ImageDataGenerator,load_img\n",
        "from tensorflow.keras.models import Sequential\n",
        "import numpy as np\n",
        "from glob import glob\n",
        "#import matplotlib.pyplot as plt"
      ],
      "execution_count": 35,
      "outputs": []
    },
    {
      "cell_type": "code",
      "metadata": {
        "id": "50b64J3pQg1A"
      },
      "source": [
        "train_Data = \"/content/drive/MyDrive/train\"\n",
        "test_Data=\"/content/drive/MyDrive/val\""
      ],
      "execution_count": 2,
      "outputs": []
    },
    {
      "cell_type": "code",
      "metadata": {
        "id": "bWgdw7UcTvJB"
      },
      "source": [
        "import matplotlib.pyplot as plt\n"
      ],
      "execution_count": 3,
      "outputs": []
    },
    {
      "cell_type": "code",
      "metadata": {
        "id": "pJkV6Iy5Q20N"
      },
      "source": [
        "def plotimages(images_arr):\n",
        "  fig,axes = plt.subplots(1,5,figsize=(20,20))\n",
        "  axes=axes.flatten()\n",
        "  for img,ax in zip(images_arr,axes):\n",
        "    ax.imshow(img)\n",
        "    plt.tight_layout()\n",
        "    plt.show()"
      ],
      "execution_count": 4,
      "outputs": []
    },
    {
      "cell_type": "code",
      "metadata": {
        "id": "dNsu2ogBTuYE"
      },
      "source": [
        "tr_data_gen = ImageDataGenerator(rescale=1./255,\n",
        "                             rotation_range=40,\n",
        "                             width_shift_range=0.2,\n",
        "                             height_shift_range=0.2,\n",
        "                             shear_range=0.2,\n",
        "                             zoom_range=0.2,\n",
        "                             horizontal_flip = True,\n",
        "                             fill_mode = 'nearest',\n",
        "\n",
        "                             )"
      ],
      "execution_count": 5,
      "outputs": []
    },
    {
      "cell_type": "code",
      "metadata": {
        "colab": {
          "base_uri": "https://localhost:8080/"
        },
        "id": "ELN200Y6Tpxg",
        "outputId": "3e95773e-c557-4c36-b34c-cf87f8e2ea2a"
      },
      "source": [
        "tr_data = tr_data_gen.flow_from_directory('/content/drive/MyDrive/train',\n",
        "                                               target_size=(150,150),\n",
        "                                               batch_size=32,\n",
        "                                               class_mode='binary')"
      ],
      "execution_count": 6,
      "outputs": [
        {
          "output_type": "stream",
          "name": "stdout",
          "text": [
            "Found 1951 images belonging to 4 classes.\n"
          ]
        }
      ]
    },
    {
      "cell_type": "code",
      "metadata": {
        "colab": {
          "base_uri": "https://localhost:8080/"
        },
        "id": "99BHthHhWtbp",
        "outputId": "a09f2cb8-2aee-4366-87cb-bdd6f9aee183"
      },
      "source": [
        "tr_data.class_indices"
      ],
      "execution_count": 7,
      "outputs": [
        {
          "output_type": "execute_result",
          "data": {
            "text/plain": [
              "{'diseased cotton leaf': 0,\n",
              " 'diseased cotton plant': 1,\n",
              " 'fresh cotton leaf': 2,\n",
              " 'fresh cotton plant': 3}"
            ]
          },
          "metadata": {},
          "execution_count": 7
        }
      ]
    },
    {
      "cell_type": "code",
      "metadata": {
        "id": "VAhJbSDgXas5"
      },
      "source": [
        "te_data_gen=ImageDataGenerator(1./255)"
      ],
      "execution_count": 8,
      "outputs": []
    },
    {
      "cell_type": "code",
      "metadata": {
        "colab": {
          "base_uri": "https://localhost:8080/"
        },
        "id": "eaTId9ScXd_V",
        "outputId": "fc43d657-5d0f-4ba0-e3d9-63f516713d8e"
      },
      "source": [
        "te_data = te_data_gen.flow_from_directory(\"/content/drive/MyDrive/val\",\n",
        "                                       target_size=(150,150),\n",
        "                                               batch_size=32,\n",
        "                                               class_mode='binary')"
      ],
      "execution_count": 9,
      "outputs": [
        {
          "output_type": "stream",
          "name": "stdout",
          "text": [
            "Found 324 images belonging to 4 classes.\n"
          ]
        }
      ]
    },
    {
      "cell_type": "code",
      "metadata": {
        "id": "3oIYPPPPX9Up"
      },
      "source": [
        "# images = [tr_data[0][0][0] for i in range(20)]\n",
        "# plotimages(images)"
      ],
      "execution_count": 10,
      "outputs": []
    },
    {
      "cell_type": "code",
      "metadata": {
        "id": "jItRNDY_Ynif"
      },
      "source": [
        "m_path = '/content/drive/MyDrive/Model'\n",
        "checkpoint = ModelCheckpoint(m_path,monitor='val_accuracy',verbose=1,save_best_only=True,mode='max')\n",
        "cllbacks_list = [checkpoint]"
      ],
      "execution_count": 11,
      "outputs": []
    },
    {
      "cell_type": "code",
      "metadata": {
        "colab": {
          "base_uri": "https://localhost:8080/"
        },
        "id": "k7P_C5TRb8Hg",
        "outputId": "41fbb0fe-cd0e-4606-ecf5-648e9b583993"
      },
      "source": [
        "model = keras.Sequential([\n",
        "                                    keras.layers.Conv2D(filters=32,kernel_size=3,input_shape=[150,150,3]),\n",
        "                                    keras.layers.MaxPooling2D(pool_size=(2,2)),\n",
        "                                    keras.layers.Conv2D(filters=64, kernel_size=3),\n",
        "                                    keras.layers.MaxPooling2D(pool_size=(2,2)),\n",
        "                                    keras.layers.Conv2D(filters=128,kernel_size=3),\n",
        "                                    keras.layers.MaxPooling2D(pool_size=(2,2)),\n",
        "                                    keras.layers.Conv2D(filters=256,kernel_size=3),\n",
        "                                    keras.layers.MaxPooling2D(pool_size=(2,2)),\n",
        "\n",
        "                                    keras.layers.Dropout(0.5),\n",
        "                                    keras.layers.Flatten(),\n",
        "                                    keras.layers.Dense(units=128,activation='relu'),\n",
        "                                    keras.layers.Dropout(0.1),\n",
        "                                    keras.layers.Dense(units=256,activation='relu'),\n",
        "                                    keras.layers.Dropout(0.25),\n",
        "                                    keras.layers.Dense(units=4,activation='softmax')\n",
        "])\n",
        "\n",
        "model.compile(optimizer=Adam(lr=0.001),loss='sparse_categorical_crossentropy',metrics=['accuracy'])"
      ],
      "execution_count": 12,
      "outputs": [
        {
          "output_type": "stream",
          "name": "stderr",
          "text": [
            "/usr/local/lib/python3.7/dist-packages/keras/optimizer_v2/adam.py:105: UserWarning: The `lr` argument is deprecated, use `learning_rate` instead.\n",
            "  super(Adam, self).__init__(name, **kwargs)\n"
          ]
        }
      ]
    },
    {
      "cell_type": "code",
      "metadata": {
        "colab": {
          "base_uri": "https://localhost:8080/"
        },
        "id": "LUpOyf2UCxkg",
        "outputId": "ba4bcd1c-438a-49be-a870-8bec202541d4"
      },
      "source": [
        "history = model.fit(tr_data,\n",
        "                    epochs=100,\n",
        "                    verbose=1,\n",
        "                    validation_data=te_data,\n",
        "                    callbacks=cllbacks_list)"
      ],
      "execution_count": 13,
      "outputs": [
        {
          "output_type": "stream",
          "name": "stdout",
          "text": [
            "Epoch 1/100\n",
            "61/61 [==============================] - ETA: 0s - loss: 1.2050 - accuracy: 0.4803 "
          ]
        },
        {
          "output_type": "stream",
          "name": "stderr",
          "text": [
            "/usr/local/lib/python3.7/dist-packages/keras_preprocessing/image/image_data_generator.py:720: UserWarning: This ImageDataGenerator specifies `featurewise_center`, but it hasn't been fit on any training data. Fit it first by calling `.fit(numpy_data)`.\n",
            "  warnings.warn('This ImageDataGenerator specifies '\n"
          ]
        },
        {
          "output_type": "stream",
          "name": "stdout",
          "text": [
            "\n",
            "Epoch 00001: val_accuracy improved from -inf to 0.65123, saving model to /content/drive/MyDrive/Model\n",
            "INFO:tensorflow:Assets written to: /content/drive/MyDrive/Model/assets\n",
            "61/61 [==============================] - 1206s 20s/step - loss: 1.2050 - accuracy: 0.4803 - val_loss: 77.3322 - val_accuracy: 0.6512\n",
            "Epoch 2/100\n",
            "61/61 [==============================] - ETA: 0s - loss: 0.9849 - accuracy: 0.6156"
          ]
        },
        {
          "output_type": "stream",
          "name": "stderr",
          "text": [
            "/usr/local/lib/python3.7/dist-packages/keras_preprocessing/image/image_data_generator.py:720: UserWarning: This ImageDataGenerator specifies `featurewise_center`, but it hasn't been fit on any training data. Fit it first by calling `.fit(numpy_data)`.\n",
            "  warnings.warn('This ImageDataGenerator specifies '\n"
          ]
        },
        {
          "output_type": "stream",
          "name": "stdout",
          "text": [
            "\n",
            "Epoch 00002: val_accuracy improved from 0.65123 to 0.68210, saving model to /content/drive/MyDrive/Model\n",
            "INFO:tensorflow:Assets written to: /content/drive/MyDrive/Model/assets\n",
            "61/61 [==============================] - 33s 539ms/step - loss: 0.9849 - accuracy: 0.6156 - val_loss: 62.7301 - val_accuracy: 0.6821\n",
            "Epoch 3/100\n",
            "61/61 [==============================] - ETA: 0s - loss: 0.8534 - accuracy: 0.6638"
          ]
        },
        {
          "output_type": "stream",
          "name": "stderr",
          "text": [
            "/usr/local/lib/python3.7/dist-packages/keras_preprocessing/image/image_data_generator.py:720: UserWarning: This ImageDataGenerator specifies `featurewise_center`, but it hasn't been fit on any training data. Fit it first by calling `.fit(numpy_data)`.\n",
            "  warnings.warn('This ImageDataGenerator specifies '\n"
          ]
        },
        {
          "output_type": "stream",
          "name": "stdout",
          "text": [
            "\n",
            "Epoch 00003: val_accuracy improved from 0.68210 to 0.70370, saving model to /content/drive/MyDrive/Model\n",
            "INFO:tensorflow:Assets written to: /content/drive/MyDrive/Model/assets\n",
            "61/61 [==============================] - 33s 540ms/step - loss: 0.8534 - accuracy: 0.6638 - val_loss: 70.2868 - val_accuracy: 0.7037\n",
            "Epoch 4/100\n",
            "61/61 [==============================] - ETA: 0s - loss: 0.8777 - accuracy: 0.6453"
          ]
        },
        {
          "output_type": "stream",
          "name": "stderr",
          "text": [
            "/usr/local/lib/python3.7/dist-packages/keras_preprocessing/image/image_data_generator.py:720: UserWarning: This ImageDataGenerator specifies `featurewise_center`, but it hasn't been fit on any training data. Fit it first by calling `.fit(numpy_data)`.\n",
            "  warnings.warn('This ImageDataGenerator specifies '\n"
          ]
        },
        {
          "output_type": "stream",
          "name": "stdout",
          "text": [
            "\n",
            "Epoch 00004: val_accuracy improved from 0.70370 to 0.73765, saving model to /content/drive/MyDrive/Model\n",
            "INFO:tensorflow:Assets written to: /content/drive/MyDrive/Model/assets\n",
            "61/61 [==============================] - 33s 542ms/step - loss: 0.8777 - accuracy: 0.6453 - val_loss: 42.4150 - val_accuracy: 0.7377\n",
            "Epoch 5/100\n",
            "61/61 [==============================] - ETA: 0s - loss: 0.7625 - accuracy: 0.7017"
          ]
        },
        {
          "output_type": "stream",
          "name": "stderr",
          "text": [
            "/usr/local/lib/python3.7/dist-packages/keras_preprocessing/image/image_data_generator.py:720: UserWarning: This ImageDataGenerator specifies `featurewise_center`, but it hasn't been fit on any training data. Fit it first by calling `.fit(numpy_data)`.\n",
            "  warnings.warn('This ImageDataGenerator specifies '\n"
          ]
        },
        {
          "output_type": "stream",
          "name": "stdout",
          "text": [
            "\n",
            "Epoch 00005: val_accuracy improved from 0.73765 to 0.79321, saving model to /content/drive/MyDrive/Model\n",
            "INFO:tensorflow:Assets written to: /content/drive/MyDrive/Model/assets\n",
            "61/61 [==============================] - 33s 536ms/step - loss: 0.7625 - accuracy: 0.7017 - val_loss: 56.1126 - val_accuracy: 0.7932\n",
            "Epoch 6/100\n",
            "61/61 [==============================] - ETA: 0s - loss: 0.7180 - accuracy: 0.7104"
          ]
        },
        {
          "output_type": "stream",
          "name": "stderr",
          "text": [
            "/usr/local/lib/python3.7/dist-packages/keras_preprocessing/image/image_data_generator.py:720: UserWarning: This ImageDataGenerator specifies `featurewise_center`, but it hasn't been fit on any training data. Fit it first by calling `.fit(numpy_data)`.\n",
            "  warnings.warn('This ImageDataGenerator specifies '\n"
          ]
        },
        {
          "output_type": "stream",
          "name": "stdout",
          "text": [
            "\n",
            "Epoch 00006: val_accuracy did not improve from 0.79321\n",
            "\b\b\b\b\b\b\b\b\b\b\b\b\b\b\b\b\b\b\b\b\b\b\b\b\b\b\b\b\b\b\b\b\b\b\b\b\b\b\b\b\b\b\b\b\b\b\b\b\b\b\b\b\b\b\b\b\b\b\b\b\b\b\b\b\b\b\b\b\b\b\b\b\b\b\b\b\b\b\b\b\b\b\r61/61 [==============================] - 30s 500ms/step - loss: 0.7180 - accuracy: 0.7104 - val_loss: 60.1465 - val_accuracy: 0.7377\n",
            "Epoch 7/100\n",
            "61/61 [==============================] - ETA: 0s - loss: 0.6789 - accuracy: 0.7555\n",
            "Epoch 00007: val_accuracy did not improve from 0.79321\n",
            "61/61 [==============================] - 30s 498ms/step - loss: 0.6789 - accuracy: 0.7555 - val_loss: 124.1368 - val_accuracy: 0.7377\n",
            "Epoch 8/100\n",
            "61/61 [==============================] - ETA: 0s - loss: 0.5673 - accuracy: 0.7842\n",
            "Epoch 00008: val_accuracy did not improve from 0.79321\n",
            "61/61 [==============================] - 30s 498ms/step - loss: 0.5673 - accuracy: 0.7842 - val_loss: 54.2916 - val_accuracy: 0.7901\n",
            "Epoch 9/100\n",
            "61/61 [==============================] - ETA: 0s - loss: 0.5277 - accuracy: 0.7883\n",
            "Epoch 00009: val_accuracy improved from 0.79321 to 0.88889, saving model to /content/drive/MyDrive/Model\n",
            "INFO:tensorflow:Assets written to: /content/drive/MyDrive/Model/assets\n",
            "61/61 [==============================] - 33s 537ms/step - loss: 0.5277 - accuracy: 0.7883 - val_loss: 30.2811 - val_accuracy: 0.8889\n",
            "Epoch 10/100\n",
            "61/61 [==============================] - ETA: 0s - loss: 0.5624 - accuracy: 0.7893"
          ]
        },
        {
          "output_type": "stream",
          "name": "stderr",
          "text": [
            "/usr/local/lib/python3.7/dist-packages/keras_preprocessing/image/image_data_generator.py:720: UserWarning: This ImageDataGenerator specifies `featurewise_center`, but it hasn't been fit on any training data. Fit it first by calling `.fit(numpy_data)`.\n",
            "  warnings.warn('This ImageDataGenerator specifies '\n"
          ]
        },
        {
          "output_type": "stream",
          "name": "stdout",
          "text": [
            "\n",
            "Epoch 00010: val_accuracy did not improve from 0.88889\n",
            "\b\b\b\b\b\b\b\b\b\b\b\b\b\b\b\b\b\b\b\b\b\b\b\b\b\b\b\b\b\b\b\b\b\b\b\b\b\b\b\b\b\b\b\b\b\b\b\b\b\b\b\b\b\b\b\b\b\b\b\b\b\b\b\b\b\b\b\b\b\b\b\b\b\b\b\b\b\b\b\b\b\b\r61/61 [==============================] - 30s 500ms/step - loss: 0.5624 - accuracy: 0.7893 - val_loss: 92.9990 - val_accuracy: 0.7068\n",
            "Epoch 11/100\n",
            "61/61 [==============================] - ETA: 0s - loss: 0.5043 - accuracy: 0.8052\n",
            "Epoch 00011: val_accuracy did not improve from 0.88889\n",
            "61/61 [==============================] - 30s 499ms/step - loss: 0.5043 - accuracy: 0.8052 - val_loss: 153.0589 - val_accuracy: 0.7037\n",
            "Epoch 12/100\n",
            "61/61 [==============================] - ETA: 0s - loss: 0.4689 - accuracy: 0.8165\n",
            "Epoch 00012: val_accuracy did not improve from 0.88889\n",
            "61/61 [==============================] - 31s 500ms/step - loss: 0.4689 - accuracy: 0.8165 - val_loss: 43.5992 - val_accuracy: 0.7994\n",
            "Epoch 13/100\n",
            "61/61 [==============================] - ETA: 0s - loss: 0.4512 - accuracy: 0.8339\n",
            "Epoch 00013: val_accuracy did not improve from 0.88889\n",
            "61/61 [==============================] - 30s 497ms/step - loss: 0.4512 - accuracy: 0.8339 - val_loss: 39.1159 - val_accuracy: 0.8241\n",
            "Epoch 14/100\n",
            "61/61 [==============================] - ETA: 0s - loss: 0.4514 - accuracy: 0.8201\n",
            "Epoch 00014: val_accuracy did not improve from 0.88889\n",
            "61/61 [==============================] - 30s 496ms/step - loss: 0.4514 - accuracy: 0.8201 - val_loss: 121.1470 - val_accuracy: 0.6698\n",
            "Epoch 15/100\n",
            "61/61 [==============================] - ETA: 0s - loss: 0.3872 - accuracy: 0.8549\n",
            "Epoch 00015: val_accuracy did not improve from 0.88889\n",
            "61/61 [==============================] - 30s 497ms/step - loss: 0.3872 - accuracy: 0.8549 - val_loss: 52.6441 - val_accuracy: 0.8025\n",
            "Epoch 16/100\n",
            "61/61 [==============================] - ETA: 0s - loss: 0.4141 - accuracy: 0.8406\n",
            "Epoch 00016: val_accuracy improved from 0.88889 to 0.91049, saving model to /content/drive/MyDrive/Model\n",
            "INFO:tensorflow:Assets written to: /content/drive/MyDrive/Model/assets\n",
            "61/61 [==============================] - 32s 533ms/step - loss: 0.4141 - accuracy: 0.8406 - val_loss: 19.4146 - val_accuracy: 0.9105\n",
            "Epoch 17/100\n",
            "61/61 [==============================] - ETA: 0s - loss: 0.3555 - accuracy: 0.8703"
          ]
        },
        {
          "output_type": "stream",
          "name": "stderr",
          "text": [
            "/usr/local/lib/python3.7/dist-packages/keras_preprocessing/image/image_data_generator.py:720: UserWarning: This ImageDataGenerator specifies `featurewise_center`, but it hasn't been fit on any training data. Fit it first by calling `.fit(numpy_data)`.\n",
            "  warnings.warn('This ImageDataGenerator specifies '\n"
          ]
        },
        {
          "output_type": "stream",
          "name": "stdout",
          "text": [
            "\n",
            "Epoch 00017: val_accuracy did not improve from 0.91049\n",
            "\b\b\b\b\b\b\b\b\b\b\b\b\b\b\b\b\b\b\b\b\b\b\b\b\b\b\b\b\b\b\b\b\b\b\b\b\b\b\b\b\b\b\b\b\b\b\b\b\b\b\b\b\b\b\b\b\b\b\b\b\b\b\b\b\b\b\b\b\b\b\b\b\b\b\b\b\b\b\b\b\b\b\r61/61 [==============================] - 30s 499ms/step - loss: 0.3555 - accuracy: 0.8703 - val_loss: 126.6225 - val_accuracy: 0.6605\n",
            "Epoch 18/100\n",
            "61/61 [==============================] - ETA: 0s - loss: 0.3423 - accuracy: 0.8688\n",
            "Epoch 00018: val_accuracy did not improve from 0.91049\n",
            "61/61 [==============================] - 30s 493ms/step - loss: 0.3423 - accuracy: 0.8688 - val_loss: 85.2358 - val_accuracy: 0.7562\n",
            "Epoch 19/100\n",
            "61/61 [==============================] - ETA: 0s - loss: 0.3314 - accuracy: 0.8765\n",
            "Epoch 00019: val_accuracy did not improve from 0.91049\n",
            "61/61 [==============================] - 30s 499ms/step - loss: 0.3314 - accuracy: 0.8765 - val_loss: 147.8736 - val_accuracy: 0.6019\n",
            "Epoch 20/100\n",
            "61/61 [==============================] - ETA: 0s - loss: 0.3147 - accuracy: 0.8852\n",
            "Epoch 00020: val_accuracy did not improve from 0.91049\n",
            "61/61 [==============================] - 30s 495ms/step - loss: 0.3147 - accuracy: 0.8852 - val_loss: 71.4965 - val_accuracy: 0.7870\n",
            "Epoch 21/100\n",
            "61/61 [==============================] - ETA: 0s - loss: 0.3582 - accuracy: 0.8703\n",
            "Epoch 00021: val_accuracy did not improve from 0.91049\n",
            "61/61 [==============================] - 30s 493ms/step - loss: 0.3582 - accuracy: 0.8703 - val_loss: 170.4429 - val_accuracy: 0.6173\n",
            "Epoch 22/100\n",
            "61/61 [==============================] - ETA: 0s - loss: 0.3607 - accuracy: 0.8724\n",
            "Epoch 00022: val_accuracy did not improve from 0.91049\n",
            "61/61 [==============================] - 30s 499ms/step - loss: 0.3607 - accuracy: 0.8724 - val_loss: 59.1547 - val_accuracy: 0.8086\n",
            "Epoch 23/100\n",
            "61/61 [==============================] - ETA: 0s - loss: 0.3773 - accuracy: 0.8662\n",
            "Epoch 00023: val_accuracy did not improve from 0.91049\n",
            "61/61 [==============================] - 30s 497ms/step - loss: 0.3773 - accuracy: 0.8662 - val_loss: 69.6256 - val_accuracy: 0.7747\n",
            "Epoch 24/100\n",
            "61/61 [==============================] - ETA: 0s - loss: 0.3311 - accuracy: 0.8826\n",
            "Epoch 00024: val_accuracy did not improve from 0.91049\n",
            "61/61 [==============================] - 30s 495ms/step - loss: 0.3311 - accuracy: 0.8826 - val_loss: 255.8278 - val_accuracy: 0.5710\n",
            "Epoch 25/100\n",
            "61/61 [==============================] - ETA: 0s - loss: 0.3021 - accuracy: 0.8913\n",
            "Epoch 00025: val_accuracy did not improve from 0.91049\n",
            "61/61 [==============================] - 30s 498ms/step - loss: 0.3021 - accuracy: 0.8913 - val_loss: 40.2154 - val_accuracy: 0.8611\n",
            "Epoch 26/100\n",
            "61/61 [==============================] - ETA: 0s - loss: 0.2864 - accuracy: 0.8908\n",
            "Epoch 00026: val_accuracy did not improve from 0.91049\n",
            "61/61 [==============================] - 30s 496ms/step - loss: 0.2864 - accuracy: 0.8908 - val_loss: 425.3739 - val_accuracy: 0.4753\n",
            "Epoch 27/100\n",
            "61/61 [==============================] - ETA: 0s - loss: 0.2693 - accuracy: 0.9088\n",
            "Epoch 00027: val_accuracy did not improve from 0.91049\n",
            "61/61 [==============================] - 30s 494ms/step - loss: 0.2693 - accuracy: 0.9088 - val_loss: 100.5950 - val_accuracy: 0.7407\n",
            "Epoch 28/100\n",
            "61/61 [==============================] - ETA: 0s - loss: 0.2997 - accuracy: 0.8867\n",
            "Epoch 00028: val_accuracy did not improve from 0.91049\n",
            "61/61 [==============================] - 30s 495ms/step - loss: 0.2997 - accuracy: 0.8867 - val_loss: 117.8250 - val_accuracy: 0.7130\n",
            "Epoch 29/100\n",
            "61/61 [==============================] - ETA: 0s - loss: 0.2885 - accuracy: 0.8929\n",
            "Epoch 00029: val_accuracy did not improve from 0.91049\n",
            "61/61 [==============================] - 31s 501ms/step - loss: 0.2885 - accuracy: 0.8929 - val_loss: 462.2205 - val_accuracy: 0.3920\n",
            "Epoch 30/100\n",
            "61/61 [==============================] - ETA: 0s - loss: 0.2916 - accuracy: 0.8924\n",
            "Epoch 00030: val_accuracy did not improve from 0.91049\n",
            "61/61 [==============================] - 30s 496ms/step - loss: 0.2916 - accuracy: 0.8924 - val_loss: 74.2355 - val_accuracy: 0.7747\n",
            "Epoch 31/100\n",
            "61/61 [==============================] - ETA: 0s - loss: 0.2831 - accuracy: 0.9006\n",
            "Epoch 00031: val_accuracy did not improve from 0.91049\n",
            "61/61 [==============================] - 30s 495ms/step - loss: 0.2831 - accuracy: 0.9006 - val_loss: 54.4934 - val_accuracy: 0.8241\n",
            "Epoch 32/100\n",
            "61/61 [==============================] - ETA: 0s - loss: 0.3287 - accuracy: 0.8847\n",
            "Epoch 00032: val_accuracy did not improve from 0.91049\n",
            "61/61 [==============================] - 30s 500ms/step - loss: 0.3287 - accuracy: 0.8847 - val_loss: 323.8331 - val_accuracy: 0.4259\n",
            "Epoch 33/100\n",
            "61/61 [==============================] - ETA: 0s - loss: 0.2741 - accuracy: 0.9052\n",
            "Epoch 00033: val_accuracy did not improve from 0.91049\n",
            "61/61 [==============================] - 30s 499ms/step - loss: 0.2741 - accuracy: 0.9052 - val_loss: 165.7205 - val_accuracy: 0.6389\n",
            "Epoch 34/100\n",
            "61/61 [==============================] - ETA: 0s - loss: 0.3044 - accuracy: 0.8903\n",
            "Epoch 00034: val_accuracy did not improve from 0.91049\n",
            "61/61 [==============================] - 31s 501ms/step - loss: 0.3044 - accuracy: 0.8903 - val_loss: 49.0551 - val_accuracy: 0.8765\n",
            "Epoch 35/100\n",
            "61/61 [==============================] - ETA: 0s - loss: 0.2921 - accuracy: 0.9001\n",
            "Epoch 00035: val_accuracy did not improve from 0.91049\n",
            "61/61 [==============================] - 30s 496ms/step - loss: 0.2921 - accuracy: 0.9001 - val_loss: 75.6968 - val_accuracy: 0.7840\n",
            "Epoch 36/100\n",
            "61/61 [==============================] - ETA: 0s - loss: 0.2252 - accuracy: 0.9252\n",
            "Epoch 00036: val_accuracy did not improve from 0.91049\n",
            "61/61 [==============================] - 30s 497ms/step - loss: 0.2252 - accuracy: 0.9252 - val_loss: 241.6923 - val_accuracy: 0.5309\n",
            "Epoch 37/100\n",
            "61/61 [==============================] - ETA: 0s - loss: 0.2107 - accuracy: 0.9252\n",
            "Epoch 00037: val_accuracy did not improve from 0.91049\n",
            "61/61 [==============================] - 30s 498ms/step - loss: 0.2107 - accuracy: 0.9252 - val_loss: 240.4935 - val_accuracy: 0.5895\n",
            "Epoch 38/100\n",
            "61/61 [==============================] - ETA: 0s - loss: 0.2269 - accuracy: 0.9170\n",
            "Epoch 00038: val_accuracy did not improve from 0.91049\n",
            "61/61 [==============================] - 30s 499ms/step - loss: 0.2269 - accuracy: 0.9170 - val_loss: 56.1542 - val_accuracy: 0.8549\n",
            "Epoch 39/100\n",
            "61/61 [==============================] - ETA: 0s - loss: 0.2503 - accuracy: 0.9165\n",
            "Epoch 00039: val_accuracy did not improve from 0.91049\n",
            "61/61 [==============================] - 30s 496ms/step - loss: 0.2503 - accuracy: 0.9165 - val_loss: 489.7155 - val_accuracy: 0.5031\n",
            "Epoch 40/100\n",
            "61/61 [==============================] - ETA: 0s - loss: 0.2821 - accuracy: 0.9047\n",
            "Epoch 00040: val_accuracy did not improve from 0.91049\n",
            "61/61 [==============================] - 30s 499ms/step - loss: 0.2821 - accuracy: 0.9047 - val_loss: 34.9976 - val_accuracy: 0.8889\n",
            "Epoch 41/100\n",
            "61/61 [==============================] - ETA: 0s - loss: 0.2233 - accuracy: 0.9175\n",
            "Epoch 00041: val_accuracy did not improve from 0.91049\n",
            "61/61 [==============================] - 30s 491ms/step - loss: 0.2233 - accuracy: 0.9175 - val_loss: 77.8131 - val_accuracy: 0.7840\n",
            "Epoch 42/100\n",
            "61/61 [==============================] - ETA: 0s - loss: 0.2333 - accuracy: 0.9113\n",
            "Epoch 00042: val_accuracy did not improve from 0.91049\n",
            "61/61 [==============================] - 30s 492ms/step - loss: 0.2333 - accuracy: 0.9113 - val_loss: 61.1062 - val_accuracy: 0.8395\n",
            "Epoch 43/100\n",
            "61/61 [==============================] - ETA: 0s - loss: 0.2023 - accuracy: 0.9195\n",
            "Epoch 00043: val_accuracy did not improve from 0.91049\n",
            "61/61 [==============================] - 30s 490ms/step - loss: 0.2023 - accuracy: 0.9195 - val_loss: 224.1233 - val_accuracy: 0.6944\n",
            "Epoch 44/100\n",
            "61/61 [==============================] - ETA: 0s - loss: 0.2022 - accuracy: 0.9323\n",
            "Epoch 00044: val_accuracy did not improve from 0.91049\n",
            "61/61 [==============================] - 30s 491ms/step - loss: 0.2022 - accuracy: 0.9323 - val_loss: 260.2253 - val_accuracy: 0.6142\n",
            "Epoch 45/100\n",
            "61/61 [==============================] - ETA: 0s - loss: 0.2706 - accuracy: 0.9098\n",
            "Epoch 00045: val_accuracy did not improve from 0.91049\n",
            "61/61 [==============================] - 30s 493ms/step - loss: 0.2706 - accuracy: 0.9098 - val_loss: 188.6069 - val_accuracy: 0.6389\n",
            "Epoch 46/100\n",
            "61/61 [==============================] - ETA: 0s - loss: 0.2263 - accuracy: 0.9165\n",
            "Epoch 00046: val_accuracy did not improve from 0.91049\n",
            "61/61 [==============================] - 30s 492ms/step - loss: 0.2263 - accuracy: 0.9165 - val_loss: 201.8738 - val_accuracy: 0.7006\n",
            "Epoch 47/100\n",
            "61/61 [==============================] - ETA: 0s - loss: 0.2274 - accuracy: 0.9159\n",
            "Epoch 00047: val_accuracy did not improve from 0.91049\n",
            "61/61 [==============================] - 30s 493ms/step - loss: 0.2274 - accuracy: 0.9159 - val_loss: 50.5849 - val_accuracy: 0.8796\n",
            "Epoch 48/100\n",
            "61/61 [==============================] - ETA: 0s - loss: 0.2539 - accuracy: 0.9247\n",
            "Epoch 00048: val_accuracy did not improve from 0.91049\n",
            "61/61 [==============================] - 30s 495ms/step - loss: 0.2539 - accuracy: 0.9247 - val_loss: 47.0011 - val_accuracy: 0.9043\n",
            "Epoch 49/100\n",
            "61/61 [==============================] - ETA: 0s - loss: 0.1873 - accuracy: 0.9436\n",
            "Epoch 00049: val_accuracy did not improve from 0.91049\n",
            "61/61 [==============================] - 30s 492ms/step - loss: 0.1873 - accuracy: 0.9436 - val_loss: 155.0879 - val_accuracy: 0.7099\n",
            "Epoch 50/100\n",
            "61/61 [==============================] - ETA: 0s - loss: 0.2353 - accuracy: 0.9216\n",
            "Epoch 00050: val_accuracy did not improve from 0.91049\n",
            "61/61 [==============================] - 30s 493ms/step - loss: 0.2353 - accuracy: 0.9216 - val_loss: 68.6753 - val_accuracy: 0.8117\n",
            "Epoch 51/100\n",
            "61/61 [==============================] - ETA: 0s - loss: 0.2051 - accuracy: 0.9293\n",
            "Epoch 00051: val_accuracy did not improve from 0.91049\n",
            "61/61 [==============================] - 30s 490ms/step - loss: 0.2051 - accuracy: 0.9293 - val_loss: 81.3444 - val_accuracy: 0.8395\n",
            "Epoch 52/100\n",
            "61/61 [==============================] - ETA: 0s - loss: 0.2342 - accuracy: 0.9180\n",
            "Epoch 00052: val_accuracy did not improve from 0.91049\n",
            "61/61 [==============================] - 30s 492ms/step - loss: 0.2342 - accuracy: 0.9180 - val_loss: 103.0320 - val_accuracy: 0.7654\n",
            "Epoch 53/100\n",
            "61/61 [==============================] - ETA: 0s - loss: 0.3620 - accuracy: 0.8760\n",
            "Epoch 00053: val_accuracy did not improve from 0.91049\n",
            "61/61 [==============================] - 30s 489ms/step - loss: 0.3620 - accuracy: 0.8760 - val_loss: 55.4628 - val_accuracy: 0.8333\n",
            "Epoch 54/100\n",
            "61/61 [==============================] - ETA: 0s - loss: 0.2659 - accuracy: 0.9180\n",
            "Epoch 00054: val_accuracy did not improve from 0.91049\n",
            "61/61 [==============================] - 30s 491ms/step - loss: 0.2659 - accuracy: 0.9180 - val_loss: 49.9910 - val_accuracy: 0.8765\n",
            "Epoch 55/100\n",
            "61/61 [==============================] - ETA: 0s - loss: 0.2241 - accuracy: 0.9288\n",
            "Epoch 00055: val_accuracy did not improve from 0.91049\n",
            "61/61 [==============================] - 30s 491ms/step - loss: 0.2241 - accuracy: 0.9288 - val_loss: 89.6784 - val_accuracy: 0.7469\n",
            "Epoch 56/100\n",
            "61/61 [==============================] - ETA: 0s - loss: 0.2299 - accuracy: 0.9282\n",
            "Epoch 00056: val_accuracy did not improve from 0.91049\n",
            "61/61 [==============================] - 30s 490ms/step - loss: 0.2299 - accuracy: 0.9282 - val_loss: 161.7643 - val_accuracy: 0.6759\n",
            "Epoch 57/100\n",
            "61/61 [==============================] - ETA: 0s - loss: 0.2355 - accuracy: 0.9154\n",
            "Epoch 00057: val_accuracy did not improve from 0.91049\n",
            "61/61 [==============================] - 30s 491ms/step - loss: 0.2355 - accuracy: 0.9154 - val_loss: 83.4916 - val_accuracy: 0.8426\n",
            "Epoch 58/100\n",
            "61/61 [==============================] - ETA: 0s - loss: 0.2035 - accuracy: 0.9334\n",
            "Epoch 00058: val_accuracy improved from 0.91049 to 0.91358, saving model to /content/drive/MyDrive/Model\n",
            "INFO:tensorflow:Assets written to: /content/drive/MyDrive/Model/assets\n",
            "61/61 [==============================] - 32s 526ms/step - loss: 0.2035 - accuracy: 0.9334 - val_loss: 22.4235 - val_accuracy: 0.9136\n",
            "Epoch 59/100\n",
            "61/61 [==============================] - ETA: 0s - loss: 0.2270 - accuracy: 0.9211"
          ]
        },
        {
          "output_type": "stream",
          "name": "stderr",
          "text": [
            "/usr/local/lib/python3.7/dist-packages/keras_preprocessing/image/image_data_generator.py:720: UserWarning: This ImageDataGenerator specifies `featurewise_center`, but it hasn't been fit on any training data. Fit it first by calling `.fit(numpy_data)`.\n",
            "  warnings.warn('This ImageDataGenerator specifies '\n"
          ]
        },
        {
          "output_type": "stream",
          "name": "stdout",
          "text": [
            "\n",
            "Epoch 00059: val_accuracy improved from 0.91358 to 0.93827, saving model to /content/drive/MyDrive/Model\n",
            "INFO:tensorflow:Assets written to: /content/drive/MyDrive/Model/assets\n",
            "61/61 [==============================] - 32s 531ms/step - loss: 0.2270 - accuracy: 0.9211 - val_loss: 33.5580 - val_accuracy: 0.9383\n",
            "Epoch 60/100\n",
            "61/61 [==============================] - ETA: 0s - loss: 0.2240 - accuracy: 0.9241"
          ]
        },
        {
          "output_type": "stream",
          "name": "stderr",
          "text": [
            "/usr/local/lib/python3.7/dist-packages/keras_preprocessing/image/image_data_generator.py:720: UserWarning: This ImageDataGenerator specifies `featurewise_center`, but it hasn't been fit on any training data. Fit it first by calling `.fit(numpy_data)`.\n",
            "  warnings.warn('This ImageDataGenerator specifies '\n"
          ]
        },
        {
          "output_type": "stream",
          "name": "stdout",
          "text": [
            "\n",
            "Epoch 00060: val_accuracy did not improve from 0.93827\n",
            "\b\b\b\b\b\b\b\b\b\b\b\b\b\b\b\b\b\b\b\b\b\b\b\b\b\b\b\b\b\b\b\b\b\b\b\b\b\b\b\b\b\b\b\b\b\b\b\b\b\b\b\b\b\b\b\b\b\b\b\b\b\b\b\b\b\b\b\b\b\b\b\b\b\b\b\b\b\b\b\b\b\b\r61/61 [==============================] - 30s 494ms/step - loss: 0.2240 - accuracy: 0.9241 - val_loss: 113.7138 - val_accuracy: 0.7562\n",
            "Epoch 61/100\n",
            "61/61 [==============================] - ETA: 0s - loss: 0.2015 - accuracy: 0.9226\n",
            "Epoch 00061: val_accuracy did not improve from 0.93827\n",
            "61/61 [==============================] - 30s 488ms/step - loss: 0.2015 - accuracy: 0.9226 - val_loss: 267.0319 - val_accuracy: 0.5586\n",
            "Epoch 62/100\n",
            "61/61 [==============================] - ETA: 0s - loss: 0.2540 - accuracy: 0.9206\n",
            "Epoch 00062: val_accuracy did not improve from 0.93827\n",
            "61/61 [==============================] - 30s 488ms/step - loss: 0.2540 - accuracy: 0.9206 - val_loss: 109.6676 - val_accuracy: 0.7840\n",
            "Epoch 63/100\n",
            "61/61 [==============================] - ETA: 0s - loss: 0.2292 - accuracy: 0.9206\n",
            "Epoch 00063: val_accuracy did not improve from 0.93827\n",
            "61/61 [==============================] - 30s 486ms/step - loss: 0.2292 - accuracy: 0.9206 - val_loss: 62.7323 - val_accuracy: 0.8302\n",
            "Epoch 64/100\n",
            "61/61 [==============================] - ETA: 0s - loss: 0.1771 - accuracy: 0.9370\n",
            "Epoch 00064: val_accuracy did not improve from 0.93827\n",
            "61/61 [==============================] - 30s 488ms/step - loss: 0.1771 - accuracy: 0.9370 - val_loss: 36.2784 - val_accuracy: 0.8642\n",
            "Epoch 65/100\n",
            "61/61 [==============================] - ETA: 0s - loss: 0.1979 - accuracy: 0.9375\n",
            "Epoch 00065: val_accuracy did not improve from 0.93827\n",
            "61/61 [==============================] - 30s 491ms/step - loss: 0.1979 - accuracy: 0.9375 - val_loss: 456.4663 - val_accuracy: 0.5648\n",
            "Epoch 66/100\n",
            "61/61 [==============================] - ETA: 0s - loss: 0.2416 - accuracy: 0.9144\n",
            "Epoch 00066: val_accuracy did not improve from 0.93827\n",
            "61/61 [==============================] - 30s 497ms/step - loss: 0.2416 - accuracy: 0.9144 - val_loss: 67.3772 - val_accuracy: 0.8488\n",
            "Epoch 67/100\n",
            "61/61 [==============================] - ETA: 0s - loss: 0.2229 - accuracy: 0.9211\n",
            "Epoch 00067: val_accuracy did not improve from 0.93827\n",
            "61/61 [==============================] - 30s 496ms/step - loss: 0.2229 - accuracy: 0.9211 - val_loss: 264.1988 - val_accuracy: 0.6265\n",
            "Epoch 68/100\n",
            "61/61 [==============================] - ETA: 0s - loss: 0.2123 - accuracy: 0.9313\n",
            "Epoch 00068: val_accuracy did not improve from 0.93827\n",
            "61/61 [==============================] - 30s 494ms/step - loss: 0.2123 - accuracy: 0.9313 - val_loss: 123.7487 - val_accuracy: 0.7130\n",
            "Epoch 69/100\n",
            "61/61 [==============================] - ETA: 0s - loss: 0.1716 - accuracy: 0.9416\n",
            "Epoch 00069: val_accuracy did not improve from 0.93827\n",
            "61/61 [==============================] - 30s 492ms/step - loss: 0.1716 - accuracy: 0.9416 - val_loss: 37.0492 - val_accuracy: 0.8673\n",
            "Epoch 70/100\n",
            "61/61 [==============================] - ETA: 0s - loss: 0.2064 - accuracy: 0.9329\n",
            "Epoch 00070: val_accuracy did not improve from 0.93827\n",
            "61/61 [==============================] - 30s 489ms/step - loss: 0.2064 - accuracy: 0.9329 - val_loss: 85.8506 - val_accuracy: 0.7901\n",
            "Epoch 71/100\n",
            "61/61 [==============================] - ETA: 0s - loss: 0.1666 - accuracy: 0.9487\n",
            "Epoch 00071: val_accuracy did not improve from 0.93827\n",
            "61/61 [==============================] - 30s 488ms/step - loss: 0.1666 - accuracy: 0.9487 - val_loss: 114.8701 - val_accuracy: 0.8056\n",
            "Epoch 72/100\n",
            "61/61 [==============================] - ETA: 0s - loss: 0.1730 - accuracy: 0.9405\n",
            "Epoch 00072: val_accuracy did not improve from 0.93827\n",
            "61/61 [==============================] - 30s 491ms/step - loss: 0.1730 - accuracy: 0.9405 - val_loss: 40.0804 - val_accuracy: 0.9012\n",
            "Epoch 73/100\n",
            "61/61 [==============================] - ETA: 0s - loss: 0.1808 - accuracy: 0.9411\n",
            "Epoch 00073: val_accuracy did not improve from 0.93827\n",
            "61/61 [==============================] - 30s 493ms/step - loss: 0.1808 - accuracy: 0.9411 - val_loss: 292.8729 - val_accuracy: 0.6883\n",
            "Epoch 74/100\n",
            "61/61 [==============================] - ETA: 0s - loss: 0.2131 - accuracy: 0.9308\n",
            "Epoch 00074: val_accuracy did not improve from 0.93827\n",
            "61/61 [==============================] - 30s 495ms/step - loss: 0.2131 - accuracy: 0.9308 - val_loss: 74.0317 - val_accuracy: 0.8642\n",
            "Epoch 75/100\n",
            "61/61 [==============================] - ETA: 0s - loss: 0.1734 - accuracy: 0.9426\n",
            "Epoch 00075: val_accuracy did not improve from 0.93827\n",
            "61/61 [==============================] - 30s 493ms/step - loss: 0.1734 - accuracy: 0.9426 - val_loss: 193.0469 - val_accuracy: 0.7377\n",
            "Epoch 76/100\n",
            "61/61 [==============================] - ETA: 0s - loss: 0.1955 - accuracy: 0.9400\n",
            "Epoch 00076: val_accuracy did not improve from 0.93827\n",
            "61/61 [==============================] - 30s 489ms/step - loss: 0.1955 - accuracy: 0.9400 - val_loss: 222.5645 - val_accuracy: 0.6667\n",
            "Epoch 77/100\n",
            "61/61 [==============================] - ETA: 0s - loss: 0.2061 - accuracy: 0.9267\n",
            "Epoch 00077: val_accuracy did not improve from 0.93827\n",
            "61/61 [==============================] - 30s 485ms/step - loss: 0.2061 - accuracy: 0.9267 - val_loss: 198.9447 - val_accuracy: 0.6420\n",
            "Epoch 78/100\n",
            "61/61 [==============================] - ETA: 0s - loss: 0.1529 - accuracy: 0.9446\n",
            "Epoch 00078: val_accuracy did not improve from 0.93827\n",
            "61/61 [==============================] - 30s 486ms/step - loss: 0.1529 - accuracy: 0.9446 - val_loss: 92.2056 - val_accuracy: 0.8333\n",
            "Epoch 79/100\n",
            "61/61 [==============================] - ETA: 0s - loss: 0.1798 - accuracy: 0.9416\n",
            "Epoch 00079: val_accuracy did not improve from 0.93827\n",
            "61/61 [==============================] - 30s 485ms/step - loss: 0.1798 - accuracy: 0.9416 - val_loss: 142.0623 - val_accuracy: 0.7654\n",
            "Epoch 80/100\n",
            "61/61 [==============================] - ETA: 0s - loss: 0.2320 - accuracy: 0.9231\n",
            "Epoch 00080: val_accuracy did not improve from 0.93827\n",
            "61/61 [==============================] - 30s 489ms/step - loss: 0.2320 - accuracy: 0.9231 - val_loss: 33.1708 - val_accuracy: 0.9074\n",
            "Epoch 81/100\n",
            "61/61 [==============================] - ETA: 0s - loss: 0.2197 - accuracy: 0.9257\n",
            "Epoch 00081: val_accuracy did not improve from 0.93827\n",
            "61/61 [==============================] - 30s 488ms/step - loss: 0.2197 - accuracy: 0.9257 - val_loss: 78.5588 - val_accuracy: 0.8056\n",
            "Epoch 82/100\n",
            "61/61 [==============================] - ETA: 0s - loss: 0.1898 - accuracy: 0.9313\n",
            "Epoch 00082: val_accuracy did not improve from 0.93827\n",
            "61/61 [==============================] - 30s 487ms/step - loss: 0.1898 - accuracy: 0.9313 - val_loss: 119.0738 - val_accuracy: 0.7160\n",
            "Epoch 83/100\n",
            "61/61 [==============================] - ETA: 0s - loss: 0.1385 - accuracy: 0.9523\n",
            "Epoch 00083: val_accuracy did not improve from 0.93827\n",
            "61/61 [==============================] - 30s 490ms/step - loss: 0.1385 - accuracy: 0.9523 - val_loss: 31.2667 - val_accuracy: 0.8889\n",
            "Epoch 84/100\n",
            "61/61 [==============================] - ETA: 0s - loss: 0.1514 - accuracy: 0.9472\n",
            "Epoch 00084: val_accuracy did not improve from 0.93827\n",
            "61/61 [==============================] - 30s 487ms/step - loss: 0.1514 - accuracy: 0.9472 - val_loss: 318.5078 - val_accuracy: 0.6235\n",
            "Epoch 85/100\n",
            "61/61 [==============================] - ETA: 0s - loss: 0.1580 - accuracy: 0.9457\n",
            "Epoch 00085: val_accuracy did not improve from 0.93827\n",
            "61/61 [==============================] - 30s 489ms/step - loss: 0.1580 - accuracy: 0.9457 - val_loss: 262.0100 - val_accuracy: 0.6667\n",
            "Epoch 86/100\n",
            "61/61 [==============================] - ETA: 0s - loss: 0.1772 - accuracy: 0.9400\n",
            "Epoch 00086: val_accuracy did not improve from 0.93827\n",
            "61/61 [==============================] - 30s 492ms/step - loss: 0.1772 - accuracy: 0.9400 - val_loss: 82.2183 - val_accuracy: 0.7870\n",
            "Epoch 87/100\n",
            "61/61 [==============================] - ETA: 0s - loss: 0.2469 - accuracy: 0.9180\n",
            "Epoch 00087: val_accuracy did not improve from 0.93827\n",
            "61/61 [==============================] - 30s 491ms/step - loss: 0.2469 - accuracy: 0.9180 - val_loss: 77.2774 - val_accuracy: 0.8056\n",
            "Epoch 88/100\n",
            "61/61 [==============================] - ETA: 0s - loss: 0.1639 - accuracy: 0.9452\n",
            "Epoch 00088: val_accuracy did not improve from 0.93827\n",
            "61/61 [==============================] - 30s 494ms/step - loss: 0.1639 - accuracy: 0.9452 - val_loss: 60.0879 - val_accuracy: 0.8580\n",
            "Epoch 89/100\n",
            "61/61 [==============================] - ETA: 0s - loss: 0.2020 - accuracy: 0.9272\n",
            "Epoch 00089: val_accuracy did not improve from 0.93827\n",
            "61/61 [==============================] - 30s 493ms/step - loss: 0.2020 - accuracy: 0.9272 - val_loss: 24.3517 - val_accuracy: 0.9043\n",
            "Epoch 90/100\n",
            "61/61 [==============================] - ETA: 0s - loss: 0.1747 - accuracy: 0.9370\n",
            "Epoch 00090: val_accuracy did not improve from 0.93827\n",
            "61/61 [==============================] - 30s 488ms/step - loss: 0.1747 - accuracy: 0.9370 - val_loss: 27.8331 - val_accuracy: 0.9074\n",
            "Epoch 91/100\n",
            "61/61 [==============================] - ETA: 0s - loss: 0.1939 - accuracy: 0.9359\n",
            "Epoch 00091: val_accuracy improved from 0.93827 to 0.94444, saving model to /content/drive/MyDrive/Model\n",
            "INFO:tensorflow:Assets written to: /content/drive/MyDrive/Model/assets\n",
            "61/61 [==============================] - 32s 524ms/step - loss: 0.1939 - accuracy: 0.9359 - val_loss: 17.5720 - val_accuracy: 0.9444\n",
            "Epoch 92/100\n",
            "61/61 [==============================] - ETA: 0s - loss: 0.1566 - accuracy: 0.9431"
          ]
        },
        {
          "output_type": "stream",
          "name": "stderr",
          "text": [
            "/usr/local/lib/python3.7/dist-packages/keras_preprocessing/image/image_data_generator.py:720: UserWarning: This ImageDataGenerator specifies `featurewise_center`, but it hasn't been fit on any training data. Fit it first by calling `.fit(numpy_data)`.\n",
            "  warnings.warn('This ImageDataGenerator specifies '\n"
          ]
        },
        {
          "output_type": "stream",
          "name": "stdout",
          "text": [
            "\n",
            "Epoch 00092: val_accuracy did not improve from 0.94444\n",
            "\b\b\b\b\b\b\b\b\b\b\b\b\b\b\b\b\b\b\b\b\b\b\b\b\b\b\b\b\b\b\b\b\b\b\b\b\b\b\b\b\b\b\b\b\b\b\b\b\b\b\b\b\b\b\b\b\b\b\b\b\b\b\b\b\b\b\b\b\b\b\b\b\b\b\b\b\b\b\b\b\b\b\r61/61 [==============================] - 30s 495ms/step - loss: 0.1566 - accuracy: 0.9431 - val_loss: 158.3519 - val_accuracy: 0.6944\n",
            "Epoch 93/100\n",
            "61/61 [==============================] - ETA: 0s - loss: 0.1945 - accuracy: 0.9431\n",
            "Epoch 00093: val_accuracy did not improve from 0.94444\n",
            "61/61 [==============================] - 30s 494ms/step - loss: 0.1945 - accuracy: 0.9431 - val_loss: 24.9396 - val_accuracy: 0.9012\n",
            "Epoch 94/100\n",
            "61/61 [==============================] - ETA: 0s - loss: 0.1677 - accuracy: 0.9487\n",
            "Epoch 00094: val_accuracy did not improve from 0.94444\n",
            "61/61 [==============================] - 30s 492ms/step - loss: 0.1677 - accuracy: 0.9487 - val_loss: 166.5954 - val_accuracy: 0.6821\n",
            "Epoch 95/100\n",
            "61/61 [==============================] - ETA: 0s - loss: 0.1551 - accuracy: 0.9493\n",
            "Epoch 00095: val_accuracy did not improve from 0.94444\n",
            "61/61 [==============================] - 30s 493ms/step - loss: 0.1551 - accuracy: 0.9493 - val_loss: 237.2534 - val_accuracy: 0.6049\n",
            "Epoch 96/100\n",
            "61/61 [==============================] - ETA: 0s - loss: 0.1466 - accuracy: 0.9513\n",
            "Epoch 00096: val_accuracy did not improve from 0.94444\n",
            "61/61 [==============================] - 30s 492ms/step - loss: 0.1466 - accuracy: 0.9513 - val_loss: 189.4352 - val_accuracy: 0.6019\n",
            "Epoch 97/100\n",
            "61/61 [==============================] - ETA: 0s - loss: 0.1636 - accuracy: 0.9411\n",
            "Epoch 00097: val_accuracy did not improve from 0.94444\n",
            "61/61 [==============================] - 30s 493ms/step - loss: 0.1636 - accuracy: 0.9411 - val_loss: 182.1400 - val_accuracy: 0.7160\n",
            "Epoch 98/100\n",
            "61/61 [==============================] - ETA: 0s - loss: 0.1616 - accuracy: 0.9462\n",
            "Epoch 00098: val_accuracy did not improve from 0.94444\n",
            "61/61 [==============================] - 30s 494ms/step - loss: 0.1616 - accuracy: 0.9462 - val_loss: 113.5471 - val_accuracy: 0.7593\n",
            "Epoch 99/100\n",
            "61/61 [==============================] - ETA: 0s - loss: 0.1643 - accuracy: 0.9472\n",
            "Epoch 00099: val_accuracy did not improve from 0.94444\n",
            "61/61 [==============================] - 30s 494ms/step - loss: 0.1643 - accuracy: 0.9472 - val_loss: 340.8055 - val_accuracy: 0.5309\n",
            "Epoch 100/100\n",
            "61/61 [==============================] - ETA: 0s - loss: 0.1989 - accuracy: 0.9364\n",
            "Epoch 00100: val_accuracy did not improve from 0.94444\n",
            "61/61 [==============================] - 30s 493ms/step - loss: 0.1989 - accuracy: 0.9364 - val_loss: 24.5014 - val_accuracy: 0.9074\n"
          ]
        }
      ]
    },
    {
      "cell_type": "code",
      "metadata": {
        "colab": {
          "base_uri": "https://localhost:8080/",
          "height": 530
        },
        "id": "XqLV1b87GZww",
        "outputId": "12e541d6-bcb1-4109-9f1c-a3cc66c341cf"
      },
      "source": [
        "import matplotlib.pyplot as plt\n",
        "\n",
        "plt.plot(history.history['loss'], label='train loss')\n",
        "plt.plot(history.history['val_loss'], label='val loss')\n",
        "plt.legend()\n",
        "plt.show()\n",
        "plt.savefig('LossVal_loss')\n",
        "\n",
        "plt.plot(history.history['accuracy'], label='train acc')\n",
        "plt.plot(history.history['val_accuracy'], label='val acc')\n",
        "plt.legend()\n",
        "plt.show()\n",
        "plt.savefig('AccVal_acc')"
      ],
      "execution_count": 14,
      "outputs": [
        {
          "output_type": "display_data",
          "data": {
            "image/png": "[encoded data removed]",
            "text/plain": [
              "<Figure size 432x288 with 1 Axes>"
            ]
          },
          "metadata": {
            "needs_background": "light"
          }
        },
        {
          "output_type": "display_data",
          "data": {
            "image/png": "[encoded data removed]",
            "text/plain": [
              "<Figure size 432x288 with 1 Axes>"
            ]
          },
          "metadata": {
            "needs_background": "light"
          }
        },
        {
          "output_type": "display_data",
          "data": {
            "text/plain": [
              "<Figure size 432x288 with 0 Axes>"
            ]
          },
          "metadata": {}
        }
      ]
    },
    {
      "cell_type": "code",
      "metadata": {
        "colab": {
          "base_uri": "https://localhost:8080/"
        },
        "id": "56go8I3Fdi73",
        "outputId": "64af1197-4a65-45dd-abb3-de4651628da6"
      },
      "source": [
        "cd .."
      ],
      "execution_count": 18,
      "outputs": [
        {
          "output_type": "stream",
          "name": "stdout",
          "text": [
            "/\n"
          ]
        }
      ]
    },
    {
      "cell_type": "code",
      "metadata": {
        "id": "DeLb85iDluHL"
      },
      "source": [
        "from tensorflow.keras.models import load_model\n",
        "\n",
        "model.save('model_new.h5')"
      ],
      "execution_count": 19,
      "outputs": []
    },
    {
      "cell_type": "code",
      "metadata": {
        "id": "Rxh7pEF5IvIO"
      },
      "source": [
        "model=load_model('model_new.h5')"
      ],
      "execution_count": 22,
      "outputs": []
    },
    {
      "cell_type": "code",
      "metadata": {
        "id": "NS1Cnei3Jsqb"
      },
      "source": [
        "from tensorflow.keras.models import load_model\n",
        "from tensorflow.keras.preprocessing import image"
      ],
      "execution_count": 26,
      "outputs": []
    },
    {
      "cell_type": "code",
      "metadata": {
        "id": "1dF3dJ46vIsL"
      },
      "source": [
        "img=image.load_img('/content/drive/MyDrive/test/fresh cotton plant/dsd (405).jpg',target_size=(150,150))\n"
      ],
      "execution_count": 43,
      "outputs": []
    },
    {
      "cell_type": "code",
      "metadata": {
        "colab": {
          "base_uri": "https://localhost:8080/"
        },
        "id": "1oGsJSglJvrN",
        "outputId": "0f35d810-de3c-462b-a08c-b89db8ce3d10"
      },
      "source": [
        "x=image.img_to_array(img)\n",
        "x.shape"
      ],
      "execution_count": 44,
      "outputs": [
        {
          "output_type": "execute_result",
          "data": {
            "text/plain": [
              "(150, 150, 3)"
            ]
          },
          "metadata": {},
          "execution_count": 44
        }
      ]
    },
    {
      "cell_type": "code",
      "metadata": {
        "id": "cz3kHSv8J3yE"
      },
      "source": [
        "x=x/255"
      ],
      "execution_count": 45,
      "outputs": []
    },
    {
      "cell_type": "code",
      "metadata": {
        "colab": {
          "base_uri": "https://localhost:8080/"
        },
        "id": "CJYAA-TsJ8bg",
        "outputId": "cf31ef2a-548c-4254-c8da-cbec17b145e1"
      },
      "source": [
        "import numpy as np\n",
        "x=np.expand_dims(x,axis=0)\n",
        "img_data=preprocess_input(x)\n",
        "img_data.shape"
      ],
      "execution_count": 46,
      "outputs": [
        {
          "output_type": "execute_result",
          "data": {
            "text/plain": [
              "(1, 150, 150, 3)"
            ]
          },
          "metadata": {},
          "execution_count": 46
        }
      ]
    },
    {
      "cell_type": "code",
      "metadata": {
        "colab": {
          "base_uri": "https://localhost:8080/"
        },
        "id": "uuhcwFntJ_Id",
        "outputId": "43b054b4-0e95-4a1e-c260-d965c52e68fe"
      },
      "source": [
        "x.shape"
      ],
      "execution_count": 47,
      "outputs": [
        {
          "output_type": "execute_result",
          "data": {
            "text/plain": [
              "(1, 150, 150, 3)"
            ]
          },
          "metadata": {},
          "execution_count": 47
        }
      ]
    },
    {
      "cell_type": "code",
      "metadata": {
        "colab": {
          "base_uri": "https://localhost:8080/"
        },
        "id": "XwkH_vrkKqyj",
        "outputId": "c1c263cf-3aed-42fa-ccab-a08833c85077"
      },
      "source": [
        "model.predict(img_data)"
      ],
      "execution_count": 48,
      "outputs": [
        {
          "output_type": "execute_result",
          "data": {
            "text/plain": [
              "array([[7.5733766e-08, 4.4696761e-05, 8.2876795e-06, 9.9994683e-01]],\n",
              "      dtype=float32)"
            ]
          },
          "metadata": {},
          "execution_count": 48
        }
      ]
    },
    {
      "cell_type": "code",
      "metadata": {
        "id": "HM4UFL09KumZ"
      },
      "source": [
        "a=np.argmax(model.predict(img_data), axis=1)"
      ],
      "execution_count": 49,
      "outputs": []
    },
    {
      "cell_type": "code",
      "metadata": {
        "colab": {
          "base_uri": "https://localhost:8080/"
        },
        "id": "rsmFt8_hMc6R",
        "outputId": "802aae95-777e-4da6-efe0-6a90b10fad0d"
      },
      "source": [
        "a==3"
      ],
      "execution_count": 53,
      "outputs": [
        {
          "output_type": "execute_result",
          "data": {
            "text/plain": [
              "array([ True])"
            ]
          },
          "metadata": {},
          "execution_count": 53
        }
      ]
    },
    {
      "cell_type": "code",
      "metadata": {
        "id": "20JjboUpMjZr"
      },
      "source": [
        ""
      ],
      "execution_count": null,
      "outputs": []
    }
  ]
}